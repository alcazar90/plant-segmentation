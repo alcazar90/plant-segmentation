{
 "cells": [
  {
   "attachments": {},
   "cell_type": "markdown",
   "metadata": {},
   "source": [
    "# PlantSegmentation 🌱 + 🔬 - AI4Science: Accelerating experimental loops"
   ]
  },
  {
   "cell_type": "code",
   "execution_count": 1,
   "metadata": {},
   "outputs": [
    {
     "name": "stderr",
     "output_type": "stream",
     "text": [
      "/home/alkzar/.pyenv/versions/3.8.5/envs/eda/lib/python3.8/site-packages/torchvision/io/image.py:13: UserWarning: Failed to load image Python extension: /home/alkzar/.pyenv/versions/3.8.5/envs/eda/lib/python3.8/site-packages/torchvision/image.so: undefined symbol: _ZNK3c1010TensorImpl36is_contiguous_nondefault_policy_implENS_12MemoryFormatE\n",
      "  warn(f\"Failed to load image Python extension: {e}\")\n"
     ]
    },
    {
     "name": "stdout",
     "output_type": "stream",
     "text": [
      "cuda\n"
     ]
    }
   ],
   "source": [
    "import numpy as np\n",
    "import matplotlib.pyplot as plt\n",
    "\n",
    "import torch\n",
    "import torch.nn as nn\n",
    "import torchvision\n",
    "\n",
    "from torch.utils.data import DataLoader\n",
    "\n",
    "from dataset import PlantDataset \n",
    "from utils import (\n",
    "    display_masks, \n",
    "    extract_ids_from_name, \n",
    "    extract_tag_from_name,\n",
    "    upscale_logits, # quizas deberian ir al modulo del modelo?\n",
    "    flatten_logits, # quizas deberian ir al modulo del modelo\n",
    "    set_seed,\n",
    "    )\n",
    "\n",
    "from transformers import (\n",
    "    SegformerForSemanticSegmentation,\n",
    "    SegformerFeatureExtractor\n",
    ")\n",
    "\n",
    "from PIL import Image\n",
    "from tqdm import tqdm\n",
    "\n",
    "device = 'cuda' if torch.cuda.is_available() else 'cpu'\n",
    "print(device)"
   ]
  },
  {
   "cell_type": "code",
   "execution_count": 2,
   "metadata": {},
   "outputs": [
    {
     "name": "stdout",
     "output_type": "stream",
     "text": [
      "Fri Apr 21 12:16:27 2023       \n",
      "+---------------------------------------------------------------------------------------+\n",
      "| NVIDIA-SMI 530.30.02              Driver Version: 530.30.02    CUDA Version: 12.1     |\n",
      "|-----------------------------------------+----------------------+----------------------+\n",
      "| GPU  Name                  Persistence-M| Bus-Id        Disp.A | Volatile Uncorr. ECC |\n",
      "| Fan  Temp  Perf            Pwr:Usage/Cap|         Memory-Usage | GPU-Util  Compute M. |\n",
      "|                                         |                      |               MIG M. |\n",
      "|=========================================+======================+======================|\n",
      "|   0  NVIDIA GeForce GTX 1050         On | 00000000:01:00.0 Off |                  N/A |\n",
      "| N/A   49C    P5               N/A /  N/A|     11MiB /  4096MiB |      0%      Default |\n",
      "|                                         |                      |                  N/A |\n",
      "+-----------------------------------------+----------------------+----------------------+\n",
      "                                                                                         \n",
      "+---------------------------------------------------------------------------------------+\n",
      "| Processes:                                                                            |\n",
      "|  GPU   GI   CI        PID   Type   Process name                            GPU Memory |\n",
      "|        ID   ID                                                             Usage      |\n",
      "|=======================================================================================|\n",
      "|    0   N/A  N/A      2144      G   /usr/lib/xorg/Xorg                            4MiB |\n",
      "|    0   N/A  N/A      3003      G   /usr/lib/xorg/Xorg                            4MiB |\n",
      "+---------------------------------------------------------------------------------------+\n"
     ]
    }
   ],
   "source": [
    "!nvidia-smi"
   ]
  },
  {
   "attachments": {},
   "cell_type": "markdown",
   "metadata": {},
   "source": [
    "## `PlantDataset` 🌱: navegar por imágenes y máscaras"
   ]
  },
  {
   "cell_type": "code",
   "execution_count": 3,
   "metadata": {},
   "outputs": [],
   "source": [
    "from dataset import PlantDataset, extract_ids_from_name\n",
    "\n",
    "dataset = PlantDataset('data', 'cwt', 'data_inventary.csv')"
   ]
  },
  {
   "attachments": {},
   "cell_type": "markdown",
   "metadata": {},
   "source": [
    "Podemos verificar si `CellDataset` navega correctamente por el directorio\n",
    "y carga los archivos correctos:"
   ]
  },
  {
   "cell_type": "code",
   "execution_count": 5,
   "metadata": {},
   "outputs": [
    {
     "data": {
      "text/plain": [
       "{'image': <PIL.Image.Image image mode=RGB size=2503x1895>,\n",
       " 'masks': ['data/cwt/original_labeled/11/task-11-annotation-53-by-1-tag-normal_cut-0.png',\n",
       "  'data/cwt/original_labeled/11/task-11-annotation-47-by-1-tag-noise-0.png',\n",
       "  'data/cwt/original_labeled/11/task-11-annotation-50-by-1-tag-noise-0.png',\n",
       "  'data/cwt/original_labeled/11/task-11-annotation-51-by-1-tag-noise-0.png',\n",
       "  'data/cwt/original_labeled/11/task-11-annotation-49-by-1-tag-noise-0.png',\n",
       "  'data/cwt/original_labeled/11/task-11-annotation-52-by-1-tag-normal_cut-0.png',\n",
       "  'data/cwt/original_labeled/11/task-11-annotation-46-by-1-tag-normal-0.png',\n",
       "  'data/cwt/original_labeled/11/task-11-annotation-48-by-1-tag-noise-0.png'],\n",
       " 'labels': [1, 2, 2, 2, 2, 1, 0, 2]}"
      ]
     },
     "execution_count": 5,
     "metadata": {},
     "output_type": "execute_result"
    }
   ],
   "source": [
    "dataset[10]"
   ]
  },
  {
   "cell_type": "code",
   "execution_count": 6,
   "metadata": {},
   "outputs": [
    {
     "name": "stdout",
     "output_type": "stream",
     "text": [
      "The image corresponding to idx 4 has the file name 'cwt1_13.jpg'\n",
      "\n",
      "The name of the folder where the masks are stored is 5, and there are 7 masks:\n",
      " -> data/cwt/original_labeled/5/task-5-annotation-24-by-1-tag-normal_cut-0.png\n",
      " -> data/cwt/original_labeled/5/task-5-annotation-22-by-1-tag-noise-0.png\n",
      " -> data/cwt/original_labeled/5/task-5-annotation-21-by-1-tag-noise-0.png\n",
      " -> data/cwt/original_labeled/5/task-5-annotation-23-by-1-tag-normal-0.png\n",
      " -> data/cwt/original_labeled/5/task-5-annotation-27-by-1-tag-noise-0.png\n",
      " -> data/cwt/original_labeled/5/task-5-annotation-25-by-1-tag-noise-0.png\n",
      " -> data/cwt/original_labeled/5/task-5-annotation-26-by-1-tag-noise-0.png\n",
      "The labels of the masks are [1, 2, 2, 0, 2, 2, 2]\n"
     ]
    },
    {
     "data": {
      "image/png": "[encoded data removed]",
      "text/plain": [
       "<PIL.Image.Image image mode=RGB size=225x225>"
      ]
     },
     "execution_count": 6,
     "metadata": {},
     "output_type": "execute_result"
    }
   ],
   "source": [
    "idx=4\n",
    "img, masks, labels = dataset[idx].values()\n",
    "print(f\"The image corresponding to idx {idx} has the file name '{dataset.images[idx]}'\\n\")\n",
    "name_original_img = dataset.images[idx]\n",
    "id_original_img, id_after_split = extract_ids_from_name(name_original_img)\n",
    "mask_idx = dataset.idx_table[(dataset.idx_table['id orginal img'] == id_original_img) & \n",
    "                             (dataset.idx_table['id after split'] == id_after_split)]['id']._values[0]\n",
    "\n",
    "print(f\"The name of the folder where the masks are stored is {mask_idx}, and there are {len(masks)} masks:\")\n",
    "for mn in masks:\n",
    "    print(f\" -> {mn}\")\n",
    "print(f\"The labels of the masks are {labels}\")\n",
    "img.resize((225, 225))"
   ]
  },
  {
   "attachments": {},
   "cell_type": "markdown",
   "metadata": {},
   "source": [
    "Podemos visualizar las máscaras asociadas a esta imagen con la\n",
    "función de utilidad `display_masks`."
   ]
  },
  {
   "cell_type": "code",
   "execution_count": 7,
   "metadata": {},
   "outputs": [
    {
     "data": {
      "image/png": "[encoded data removed]",
      "text/plain": [
       "<PIL.Image.Image image mode=RGB size=1575x225>"
      ]
     },
     "execution_count": 7,
     "metadata": {},
     "output_type": "execute_result"
    }
   ],
   "source": [
    "# TODO: analizar el orden de como se stackean las imagenes de la lista de direcciones en masks\n",
    "# a la PIL.Image en display_masks()\n",
    "from utils import display_masks\n",
    "display_masks(masks)"
   ]
  },
  {
   "attachments": {},
   "cell_type": "markdown",
   "metadata": {},
   "source": [
    "De izquierda a derecha, cada máscara identifica las siguientes instancias."
   ]
  },
  {
   "cell_type": "code",
   "execution_count": 8,
   "metadata": {},
   "outputs": [
    {
     "name": "stdout",
     "output_type": "stream",
     "text": [
      "normal_cut\n",
      "noise\n",
      "noise\n",
      "normal\n",
      "noise\n",
      "noise\n",
      "noise\n"
     ]
    }
   ],
   "source": [
    "for idx in labels:\n",
    "    print(dataset._id2label[idx])"
   ]
  },
  {
   "attachments": {},
   "cell_type": "markdown",
   "metadata": {},
   "source": [
    "La clase `PlantDataset` contiene dos atributos con los diccionarios para\n",
    "mapear la clase a un entero (i.e. `_label2id`) y viceversa (`_id2label`)."
   ]
  },
  {
   "cell_type": "code",
   "execution_count": 9,
   "metadata": {},
   "outputs": [
    {
     "data": {
      "image/png": "[encoded data removed]",
      "text/plain": [
       "<Figure size 432x288 with 1 Axes>"
      ]
     },
     "metadata": {
      "needs_background": "light"
     },
     "output_type": "display_data"
    }
   ],
   "source": [
    "plt.hist(dataset.get_number_of_masks());\n",
    "plt.title('Distribución del número de máscaras por imagen');"
   ]
  },
  {
   "attachments": {},
   "cell_type": "markdown",
   "metadata": {},
   "source": [
    "Hay una imagen con 13 máscaras asociadas..."
   ]
  },
  {
   "cell_type": "code",
   "execution_count": 10,
   "metadata": {},
   "outputs": [
    {
     "data": {
      "image/png": "[encoded data removed]",
      "text/plain": [
       "<PIL.Image.Image image mode=RGB size=250x250>"
      ]
     },
     "metadata": {},
     "output_type": "display_data"
    },
    {
     "data": {
      "image/png": "[encoded data removed]",
      "text/plain": [
       "<PIL.Image.Image image mode=RGB size=2925x225>"
      ]
     },
     "execution_count": 10,
     "metadata": {},
     "output_type": "execute_result"
    }
   ],
   "source": [
    "idx_13masks = dataset.get_number_of_masks().index(13)\n",
    "\n",
    "display(dataset[idx_13masks]['image'].resize((250, 250)))\n",
    "\n",
    "display_masks(dataset[idx_13masks]['masks'])"
   ]
  },
  {
   "attachments": {},
   "cell_type": "markdown",
   "metadata": {},
   "source": [
    "## Collate Function + DataLoader: bonito, bonito, pero quiero tensores"
   ]
  },
  {
   "attachments": {},
   "cell_type": "markdown",
   "metadata": {},
   "source": [
    "### Un canal para cada etiqueta, un entero para cada instancia"
   ]
  },
  {
   "attachments": {},
   "cell_type": "markdown",
   "metadata": {},
   "source": [
    "Ahora nos enfocaremos en construir el _target_ de una observación. Necesitamos\n",
    "crear un tensor a partir de todas las posibles máscaras y etiquetas asociadas\n",
    "a una imagen, dentro del cual se identifican instancias particulares a una clase\n",
    "dentro de la misma matriz. Tendremos 3 matrices, 1 por cada clase, y todas\n",
    "apiladas en una dimensión adicional en el mismo tensor. Esto será el _target_\n",
    "para cada imagen. "
   ]
  },
  {
   "cell_type": "code",
   "execution_count": 12,
   "metadata": {},
   "outputs": [
    {
     "data": {
      "text/plain": [
       "['data/cwt/original_labeled/5/task-5-annotation-24-by-1-tag-normal_cut-0.png',\n",
       " 'data/cwt/original_labeled/5/task-5-annotation-22-by-1-tag-noise-0.png',\n",
       " 'data/cwt/original_labeled/5/task-5-annotation-21-by-1-tag-noise-0.png',\n",
       " 'data/cwt/original_labeled/5/task-5-annotation-23-by-1-tag-normal-0.png',\n",
       " 'data/cwt/original_labeled/5/task-5-annotation-27-by-1-tag-noise-0.png',\n",
       " 'data/cwt/original_labeled/5/task-5-annotation-25-by-1-tag-noise-0.png',\n",
       " 'data/cwt/original_labeled/5/task-5-annotation-26-by-1-tag-noise-0.png']"
      ]
     },
     "execution_count": 12,
     "metadata": {},
     "output_type": "execute_result"
    }
   ],
   "source": [
    "# dado una imagen leer en tensores todas las etiquetas\n",
    "idx=4\n",
    "img, masks, labels = dataset[idx].values()\n",
    "masks"
   ]
  },
  {
   "attachments": {},
   "cell_type": "markdown",
   "metadata": {},
   "source": [
    "Usando un solo ejemplo, leemos sus máscaras y las transformamos a\n",
    "tensores de PyTorch. Agrupamos todos los tensores asociados a una etiqueta,\n",
    "tenemos 3 distintas, por lo tanto terminamos con 3 tensores que agrupan\n",
    "en un canal todas las máscaras con la misma etiqueta."
   ]
  },
  {
   "cell_type": "code",
   "execution_count": 13,
   "metadata": {},
   "outputs": [
    {
     "data": {
      "text/plain": [
       "(torch.Size([1, 10, 10]), torch.Size([1, 10, 10]), torch.Size([5, 10, 10]))"
      ]
     },
     "execution_count": 13,
     "metadata": {},
     "output_type": "execute_result"
    }
   ],
   "source": [
    "from torchvision.transforms import ToTensor\n",
    "\n",
    "# obtengamos la información para un ejemplo\n",
    "idx=4\n",
    "img, masks, labels = dataset[idx].values()\n",
    "\n",
    "# crear id de instancias\n",
    "instance_idxs = torch.tensor([l+1 for l in range(len(labels))], dtype=torch.long)\n",
    "tfms = ToTensor()\n",
    "\n",
    "# leer las mascaras por etiquetas, transformarlas a tensores, y concatenarlos en una dimensión\n",
    "# adicional. Creamos un tensor por cada etiqueta\n",
    "# TODO: cómo hacerlo todo una pasada?\n",
    "m0 = torch.cat([torch.where(tfms(Image.open(m).resize((10, 10))) > 0.0, 1.0, 0.0) * instance_idxs[l] for l, m in enumerate(masks) if labels[l] == 0])\n",
    "m1 = torch.cat([torch.where(tfms(Image.open(m).resize((10, 10))) > 0.0, 1.0, 0.0) * instance_idxs[l] for l, m in enumerate(masks) if labels[l] == 1])\n",
    "m2 = torch.cat([torch.where(tfms(Image.open(m).resize((10, 10))) > 0.0, 1.0, 0.0) * instance_idxs[l] for l, m in enumerate(masks) if labels[l] == 2])\n",
    "m0.shape, m1.shape, m2.shape"
   ]
  },
  {
   "attachments": {},
   "cell_type": "markdown",
   "metadata": {},
   "source": [
    "Notemos que la etiqueta asociada al índice 2 (i.e. `noise`) tiene 5 máscaras\n",
    "asociadas, las otras dos etiquetas solo una. Necesitamos ahora fundir cada\n",
    "uno de estos tensores con 3 dimensiones `(mask_id, height, width)` a \n",
    "`(height, width)` donde en cada pixel haya un número asociado a la instancia.\n",
    "\n",
    "Partamos con el tensor que agrupa las máscaras `noise` y tiene 5 instancais\n",
    "asociadas."
   ]
  },
  {
   "cell_type": "code",
   "execution_count": 14,
   "metadata": {},
   "outputs": [
    {
     "name": "stdout",
     "output_type": "stream",
     "text": [
      "Id de instancia: tensor([1, 2, 3, 4, 5, 6, 7])\n"
     ]
    },
    {
     "data": {
      "text/plain": [
       "tensor([0., 2., 3., 5., 6.])"
      ]
     },
     "execution_count": 14,
     "metadata": {},
     "output_type": "execute_result"
    }
   ],
   "source": [
    "# revisamos sus ids de instancia\n",
    "print('Id de instancia:', instance_idxs)\n",
    "m2.unique()"
   ]
  },
  {
   "attachments": {},
   "cell_type": "markdown",
   "metadata": {},
   "source": [
    "Recordemos que el valor 0 esta reservado para la etiqueta de ausencia (no label).\n",
    "Así que las instancias parten desde el 1, ..., a tantas máscaras tenga asociada\n",
    "la observación. No tienen porque tener un orden asociado según la clase.\n",
    "\n",
    "Ahora podemos colapsar el canal que tiene cada mascara en una sola, sumando\n",
    "todas las matrices a lo largo de este canal, element por elemento. Asumiendo\n",
    "que no tenemos ninguna instancia asolapada, cada pixel debería tener un id\n",
    "identificando a la máscara particular que pertenece. El resto de los valores\n",
    "será 0 que significa que no hay ningúna clase que identificamos en ese pixel."
   ]
  },
  {
   "attachments": {},
   "cell_type": "markdown",
   "metadata": {},
   "source": [
    "Recordemos que en nuestro ejemplo reducimos la resolución de las máscaras a\n",
    "10x10 para lograr visualizarlas completa. Estas son las máscaras asociadas\n",
    "a la etiqueta 2 que es `noise`. Originalmente habían 5 de 7 máscaras en\n",
    "esta observación que se identifican a esta etiqueta. Sin embargo, en su \n",
    "versión matricial solo vemos 4 enteros distintos, esto es porque uno \n",
    "se perdió por la reducción de tamaño de imagen. \n",
    "\n",
    "Veámos las clases de cada máscara y los ids para identificar a cada una \n",
    "de ellas."
   ]
  },
  {
   "cell_type": "code",
   "execution_count": 15,
   "metadata": {},
   "outputs": [
    {
     "data": {
      "text/plain": [
       "tensor([[3., 0., 0., 0., 0., 0., 0., 0., 0., 0.],\n",
       "        [3., 0., 0., 0., 0., 0., 0., 0., 0., 0.],\n",
       "        [0., 0., 0., 0., 0., 0., 0., 0., 0., 0.],\n",
       "        [0., 0., 0., 0., 0., 0., 0., 0., 0., 0.],\n",
       "        [0., 0., 0., 0., 0., 0., 0., 0., 0., 0.],\n",
       "        [0., 0., 0., 0., 0., 0., 0., 0., 0., 0.],\n",
       "        [0., 2., 2., 0., 0., 0., 0., 0., 0., 0.],\n",
       "        [0., 2., 2., 0., 0., 0., 0., 6., 0., 0.],\n",
       "        [0., 0., 0., 0., 5., 0., 0., 0., 0., 0.],\n",
       "        [0., 0., 0., 0., 0., 0., 0., 0., 0., 0.]])"
      ]
     },
     "execution_count": 15,
     "metadata": {},
     "output_type": "execute_result"
    }
   ],
   "source": [
    "m2.sum(dim=0)"
   ]
  },
  {
   "attachments": {},
   "cell_type": "markdown",
   "metadata": {},
   "source": [
    "Si vemos la imagen a clasificar, es posible identificar con los\n",
    "enteros de la matriz de arriba las zonas donde se clasificaron \n",
    "como ruído. Por la resolución, hay un par de puntos que son díficiles\n",
    "de ver, pero las instancias representadas por 3 y 2 son fáciles de mapear\n",
    "de la matriz a la imagen."
   ]
  },
  {
   "cell_type": "code",
   "execution_count": 16,
   "metadata": {},
   "outputs": [
    {
     "data": {
      "image/png": "[encoded data removed]",
      "text/plain": [
       "<PIL.Image.Image image mode=RGB size=300x300>"
      ]
     },
     "execution_count": 16,
     "metadata": {},
     "output_type": "execute_result"
    }
   ],
   "source": [
    "img.resize((300,300))"
   ]
  },
  {
   "attachments": {},
   "cell_type": "markdown",
   "metadata": {},
   "source": [
    "Este procedimiento se debe realizar por cada clase, luego debemos\n",
    "apilar 3 matrices como la de arriba, en un solo tensor que tendrá\n",
    "las dimensiones `(Batch, Clase, Altura, Ancho)` y esta serán nuestras etiquetas\n",
    "asociadas a la observación."
   ]
  },
  {
   "cell_type": "code",
   "execution_count": 17,
   "metadata": {},
   "outputs": [
    {
     "data": {
      "text/plain": [
       "torch.Size([1, 3, 10, 10])"
      ]
     },
     "execution_count": 17,
     "metadata": {},
     "output_type": "execute_result"
    }
   ],
   "source": [
    "torch.zeros((1, 3, 10, 10)).shape"
   ]
  },
  {
   "cell_type": "code",
   "execution_count": 18,
   "metadata": {},
   "outputs": [
    {
     "data": {
      "text/plain": [
       "{0: 'normal', 1: 'normal_cut', 2: 'noise'}"
      ]
     },
     "execution_count": 18,
     "metadata": {},
     "output_type": "execute_result"
    }
   ],
   "source": [
    "dataset._id2label"
   ]
  },
  {
   "cell_type": "code",
   "execution_count": 19,
   "metadata": {},
   "outputs": [],
   "source": [
    "def get_target(masks, labels, tfms, size=(250, 250), num_classes=4):\n",
    "    \"\"\" \n",
    "        Recibe una lista de máscaras y una lista de etiquetas, retorna\n",
    "        un tensor de dimensiones (n_classes, height, widht). En cada clase,\n",
    "        cualquier entero distinto a 0 representa a uns instancia particular\n",
    "        de la clase. El entero 0 se reserva para background/no-clase.\n",
    "    \"\"\"\n",
    "    # creamos tensor para almacenar máscaras por clase en cada canal (dim 1)\n",
    "    # NOTA: la última es ausencia o ninguna detecctión \n",
    "    out = torch.zeros((1, num_classes, size[0], size[1]))\n",
    "\n",
    "    # si no hay máscaras, retornamos el tensor\n",
    "    if len(masks) == 0:\n",
    "        return out\n",
    "\n",
    "    # crear un entero que represente cada instancia de las mascaras asociadas\n",
    "    # a la observación. No siguen un orden necesario tipo todas las de la clase 0\n",
    "    # parten al principio, se encuentran según el orden de los labels. El entero\n",
    "    # 0 se reserva como background/no-clase\n",
    "    instance_idxs = torch.tensor([l+1 for l in range(len(labels))], dtype=torch.long)\n",
    "\n",
    "    # iteramos sobre cada clase para procesar las máscaras asociadas a estas,\n",
    "    # agregar un identificador de instancias y colapsar en una sola matriz\n",
    "    # Supuesto: no hay clase sobrelapadas. Si hay, se debe hacer un proceso\n",
    "    # adicional para ver que entero se asigna al pixel correspondiente\n",
    "    for l in list(set(labels)):\n",
    "        x = torch.cat([torch.where(tfms(Image.open(m).resize(size)) > 0.0, 1.0, 0.0) * instance_idxs[i] for i, m in enumerate(masks) if labels[i] == l])\n",
    "        out[0, l, :, :] = x.sum(dim=0)\n",
    "\n",
    "    return out"
   ]
  },
  {
   "cell_type": "code",
   "execution_count": 25,
   "metadata": {},
   "outputs": [
    {
     "data": {
      "text/plain": [
       "tensor([[[[0., 0., 0., 0., 0., 0., 0., 0., 0., 0.],\n",
       "          [0., 0., 0., 0., 0., 0., 0., 0., 0., 0.],\n",
       "          [0., 0., 0., 0., 0., 0., 0., 0., 0., 0.],\n",
       "          [0., 0., 0., 0., 0., 0., 0., 0., 0., 0.],\n",
       "          [3., 3., 3., 3., 0., 0., 0., 0., 0., 0.],\n",
       "          [3., 3., 3., 3., 0., 0., 0., 0., 0., 0.],\n",
       "          [3., 3., 3., 0., 0., 0., 0., 0., 0., 0.],\n",
       "          [0., 0., 0., 0., 0., 0., 0., 0., 0., 0.],\n",
       "          [0., 0., 0., 0., 0., 0., 0., 0., 0., 0.],\n",
       "          [0., 0., 0., 0., 0., 0., 0., 0., 0., 0.]],\n",
       "\n",
       "         [[0., 0., 0., 0., 0., 0., 0., 0., 0., 0.],\n",
       "          [0., 0., 0., 0., 0., 0., 0., 0., 0., 0.],\n",
       "          [0., 0., 0., 0., 0., 0., 0., 0., 0., 0.],\n",
       "          [0., 0., 0., 0., 0., 0., 0., 0., 0., 0.],\n",
       "          [0., 0., 0., 0., 0., 0., 0., 0., 0., 0.],\n",
       "          [0., 0., 0., 0., 0., 0., 0., 0., 0., 0.],\n",
       "          [0., 0., 0., 0., 0., 0., 0., 0., 0., 0.],\n",
       "          [0., 0., 0., 0., 0., 0., 0., 0., 0., 0.],\n",
       "          [2., 2., 2., 0., 0., 0., 0., 0., 0., 0.],\n",
       "          [2., 2., 0., 0., 0., 0., 0., 0., 0., 0.]],\n",
       "\n",
       "         [[0., 0., 0., 0., 0., 0., 0., 0., 0., 0.],\n",
       "          [0., 0., 0., 0., 0., 0., 0., 0., 0., 0.],\n",
       "          [0., 0., 0., 0., 0., 0., 0., 0., 0., 0.],\n",
       "          [0., 0., 0., 0., 0., 0., 0., 0., 0., 0.],\n",
       "          [0., 0., 0., 0., 0., 0., 0., 0., 0., 0.],\n",
       "          [0., 0., 0., 0., 0., 0., 0., 0., 0., 0.],\n",
       "          [0., 0., 0., 0., 0., 0., 0., 0., 0., 0.],\n",
       "          [0., 0., 0., 0., 0., 0., 0., 0., 0., 0.],\n",
       "          [0., 0., 0., 0., 0., 1., 0., 0., 0., 0.],\n",
       "          [0., 0., 0., 0., 0., 1., 0., 0., 0., 0.]],\n",
       "\n",
       "         [[0., 0., 0., 0., 0., 0., 0., 0., 0., 0.],\n",
       "          [0., 0., 0., 0., 0., 0., 0., 0., 0., 0.],\n",
       "          [0., 0., 0., 0., 0., 0., 0., 0., 0., 0.],\n",
       "          [0., 0., 0., 0., 0., 0., 0., 0., 0., 0.],\n",
       "          [0., 0., 0., 0., 0., 0., 0., 0., 0., 0.],\n",
       "          [0., 0., 0., 0., 0., 0., 0., 0., 0., 0.],\n",
       "          [0., 0., 0., 0., 0., 0., 0., 0., 0., 0.],\n",
       "          [0., 0., 0., 0., 0., 0., 0., 0., 0., 0.],\n",
       "          [0., 0., 0., 0., 0., 0., 0., 0., 0., 0.],\n",
       "          [0., 0., 0., 0., 0., 0., 0., 0., 0., 0.]]]])"
      ]
     },
     "execution_count": 25,
     "metadata": {},
     "output_type": "execute_result"
    }
   ],
   "source": [
    "idx=0\n",
    "img, masks, labels = dataset[idx].values()\n",
    "get_target(masks, labels, tfms, size=((10, 10)))"
   ]
  },
  {
   "cell_type": "code",
   "execution_count": 27,
   "metadata": {},
   "outputs": [
    {
     "data": {
      "image/png": "[encoded data removed]",
      "text/plain": [
       "<PIL.Image.Image image mode=RGB size=250x250>"
      ]
     },
     "execution_count": 27,
     "metadata": {},
     "output_type": "execute_result"
    }
   ],
   "source": [
    "img.resize((250, 250))"
   ]
  },
  {
   "attachments": {},
   "cell_type": "markdown",
   "metadata": {},
   "source": [
    "### Collate function y DataLoaders"
   ]
  },
  {
   "attachments": {},
   "cell_type": "markdown",
   "metadata": {},
   "source": [
    "Sabemos como obtener los _targets_ a partir de las máscaras asociadas a una observación.\n",
    "Ahora, aplicaremos la transformación a la imagen del input."
   ]
  },
  {
   "attachments": {},
   "cell_type": "markdown",
   "metadata": {},
   "source": [
    "Primero, las imágenes como _input_ se le aplican una serie de\n",
    "transformaciones para adaptarlo al modelo SegFormer. Estas transformaciones\n",
    "se pueden instanciar con `SegformerImageProcessor()`. Toma una imagen\n",
    "en forma `PIL.Image` y entrega una lista con un array que puede ser\n",
    "adaptado a numpy, torch, jax, etcétera."
   ]
  },
  {
   "attachments": {},
   "cell_type": "markdown",
   "metadata": {},
   "source": [
    "¿Qué pasa con las máscaras?"
   ]
  },
  {
   "cell_type": "code",
   "execution_count": 28,
   "metadata": {},
   "outputs": [
    {
     "name": "stderr",
     "output_type": "stream",
     "text": [
      "/home/alkzar/.pyenv/versions/3.8.5/envs/eda/lib/python3.8/site-packages/transformers/models/segformer/feature_extraction_segformer.py:28: FutureWarning: The class SegformerFeatureExtractor is deprecated and will be removed in version 5 of Transformers. Please use SegformerImageProcessor instead.\n",
      "  warnings.warn(\n",
      "/home/alkzar/.pyenv/versions/3.8.5/envs/eda/lib/python3.8/site-packages/transformers/models/segformer/image_processing_segformer.py:99: FutureWarning: The `reduce_labels` parameter is deprecated and will be removed in a future version. Please use `do_reduce_labels` instead.\n",
      "  warnings.warn(\n",
      "Some weights of the model checkpoint at nvidia/mit-b0 were not used when initializing SegformerForSemanticSegmentation: ['classifier.weight', 'classifier.bias']\n",
      "- This IS expected if you are initializing SegformerForSemanticSegmentation from the checkpoint of a model trained on another task or with another architecture (e.g. initializing a BertForSequenceClassification model from a BertForPreTraining model).\n",
      "- This IS NOT expected if you are initializing SegformerForSemanticSegmentation from the checkpoint of a model that you expect to be exactly identical (initializing a BertForSequenceClassification model from a BertForSequenceClassification model).\n",
      "Some weights of SegformerForSemanticSegmentation were not initialized from the model checkpoint at nvidia/mit-b0 and are newly initialized: ['decode_head.linear_c.3.proj.bias', 'decode_head.linear_c.1.proj.bias', 'decode_head.classifier.bias', 'decode_head.batch_norm.num_batches_tracked', 'decode_head.linear_fuse.weight', 'decode_head.linear_c.1.proj.weight', 'decode_head.batch_norm.running_mean', 'decode_head.linear_c.2.proj.weight', 'decode_head.linear_c.2.proj.bias', 'decode_head.batch_norm.bias', 'decode_head.linear_c.0.proj.weight', 'decode_head.classifier.weight', 'decode_head.batch_norm.running_var', 'decode_head.linear_c.0.proj.bias', 'decode_head.linear_c.3.proj.weight', 'decode_head.batch_norm.weight']\n",
      "You should probably TRAIN this model on a down-stream task to be able to use it for predictions and inference.\n"
     ]
    }
   ],
   "source": [
    "from transformers import SegformerForSemanticSegmentation, SegformerFeatureExtractor\n",
    "    \n",
    "feature_extractor = SegformerFeatureExtractor.from_pretrained(\"nvidia/mit-b0\")\n",
    "model = SegformerForSemanticSegmentation.from_pretrained(\"nvidia/mit-b0\")\n"
   ]
  },
  {
   "cell_type": "code",
   "execution_count": 30,
   "metadata": {},
   "outputs": [],
   "source": [
    "# Create a collate function to stack the masks as channels in the same tensor\n",
    "def collate_fn(batch):\n",
    "    \"\"\"\n",
    "        Collate function to stack the masks as channels in the same tensor.\n",
    "    \"\"\"\n",
    "    # Acá se pueden agregar todas las transformaciones adicionales de preproceso que\n",
    "    # se requieran para las máscaras. La única esencial es pasar una PIL.Image a tensor\n",
    "    tfms = ToTensor()\n",
    "    images = torch.cat([feature_extractor(example['image'], return_tensors='pt')['pixel_values'] for example in batch])\n",
    "    masks = [example['masks'] for example in batch]\n",
    "    labels = [example['labels'] for example in batch]\n",
    "    targets = torch.cat([get_target(x[0], x[1], tfms, size=(512,512)) for x in zip(masks, labels)])\n",
    "\n",
    "    # transformar a 1 cuando haya un entero distinto a 0 (semantic segmentation)\n",
    "    targets = torch.where(targets > 0.0, 1.0, 0.0)\n",
    "    return images, targets\n"
   ]
  },
  {
   "cell_type": "code",
   "execution_count": 31,
   "metadata": {},
   "outputs": [
    {
     "data": {
      "text/plain": [
       "(torch.Size([2, 3, 512, 512]), torch.Size([2, 4, 512, 512]))"
      ]
     },
     "execution_count": 31,
     "metadata": {},
     "output_type": "execute_result"
    }
   ],
   "source": [
    "from torch.utils.data import DataLoader\n",
    "\n",
    "# Create a DataLoader object to stacking each mask as a channel in the same tensor\n",
    "# and to shuffle the dataset\n",
    "dataloader = DataLoader(dataset, batch_size=2, shuffle=True, num_workers=0,\n",
    "                        collate_fn=collate_fn)\n",
    "\n",
    "xb, yb = next(iter(dataloader))\n",
    "xb.shape, yb.shape"
   ]
  },
  {
   "attachments": {},
   "cell_type": "markdown",
   "metadata": {},
   "source": [
    "## SegFormer"
   ]
  },
  {
   "attachments": {},
   "cell_type": "markdown",
   "metadata": {},
   "source": [
    "### Sanity check: understanding the output models"
   ]
  },
  {
   "cell_type": "code",
   "execution_count": 36,
   "metadata": {},
   "outputs": [],
   "source": [
    "dataset._id2label[3] = 'non-detection'\n",
    "dataset._label2id['non-detection'] = 3"
   ]
  },
  {
   "cell_type": "code",
   "execution_count": 37,
   "metadata": {},
   "outputs": [
    {
     "name": "stdout",
     "output_type": "stream",
     "text": [
      "Random seed set as 42313988\n"
     ]
    },
    {
     "name": "stderr",
     "output_type": "stream",
     "text": [
      "Some weights of the model checkpoint at nvidia/mit-b0 were not used when initializing SegformerForSemanticSegmentation: ['classifier.weight', 'classifier.bias']\n",
      "- This IS expected if you are initializing SegformerForSemanticSegmentation from the checkpoint of a model trained on another task or with another architecture (e.g. initializing a BertForSequenceClassification model from a BertForPreTraining model).\n",
      "- This IS NOT expected if you are initializing SegformerForSemanticSegmentation from the checkpoint of a model that you expect to be exactly identical (initializing a BertForSequenceClassification model from a BertForSequenceClassification model).\n",
      "Some weights of SegformerForSemanticSegmentation were not initialized from the model checkpoint at nvidia/mit-b0 and are newly initialized: ['decode_head.linear_c.3.proj.bias', 'decode_head.linear_c.1.proj.bias', 'decode_head.classifier.bias', 'decode_head.batch_norm.num_batches_tracked', 'decode_head.linear_fuse.weight', 'decode_head.linear_c.1.proj.weight', 'decode_head.batch_norm.running_mean', 'decode_head.linear_c.2.proj.weight', 'decode_head.linear_c.2.proj.bias', 'decode_head.batch_norm.bias', 'decode_head.linear_c.0.proj.weight', 'decode_head.classifier.weight', 'decode_head.batch_norm.running_var', 'decode_head.linear_c.0.proj.bias', 'decode_head.linear_c.3.proj.weight', 'decode_head.batch_norm.weight']\n",
      "You should probably TRAIN this model on a down-stream task to be able to use it for predictions and inference.\n"
     ]
    },
    {
     "data": {
      "text/plain": [
       "(torch.Size([2, 3, 512, 512]), torch.Size([2, 4, 512, 512]))"
      ]
     },
     "execution_count": 37,
     "metadata": {},
     "output_type": "execute_result"
    }
   ],
   "source": [
    "set_seed()  # for reproducibility\n",
    "\n",
    "# initialize model\n",
    "dataset._id2label[3] = 'non-detection'\n",
    "dataset._label2id['non-detection'] = 3\n",
    "\n",
    "model = SegformerForSemanticSegmentation.from_pretrained(\n",
    "    \"nvidia/mit-b0\",\n",
    "    id2label=dataset._id2label,\n",
    "    label2id=dataset._label2id\n",
    ")\n",
    "\n",
    "# model to device\n",
    "model=model.to(device)\n",
    "\n",
    "lr = 1e-4 \n",
    "n_epochs = 1000\n",
    "loss_fn = nn.CrossEntropyLoss()\n",
    "optimizer = torch.optim.AdamW(model.parameters(), lr=lr)\n",
    "\n",
    "xb=xb.to(device)\n",
    "yb=yb.to(device)\n",
    "xb.shape, yb.shape"
   ]
  },
  {
   "attachments": {},
   "cell_type": "markdown",
   "metadata": {},
   "source": [
    "Analicemos el _output_ que nos entrega un modelo al pasarle un\n",
    "_batch_ con dos ejemplos."
   ]
  },
  {
   "cell_type": "code",
   "execution_count": 38,
   "metadata": {},
   "outputs": [
    {
     "data": {
      "text/plain": [
       "torch.Size([2, 4, 128, 128])"
      ]
     },
     "execution_count": 38,
     "metadata": {},
     "output_type": "execute_result"
    }
   ],
   "source": [
    "model.eval()\n",
    "out = model(xb)['logits']\n",
    "out.shape"
   ]
  },
  {
   "attachments": {},
   "cell_type": "markdown",
   "metadata": {},
   "source": [
    "Escalamos los logits a la resolución de entrada de la imagen, utilizamos\n",
    "`upscale_logits`."
   ]
  },
  {
   "cell_type": "code",
   "execution_count": 39,
   "metadata": {},
   "outputs": [
    {
     "data": {
      "text/plain": [
       "torch.Size([2, 4, 512, 512])"
      ]
     },
     "execution_count": 39,
     "metadata": {},
     "output_type": "execute_result"
    }
   ],
   "source": [
    "out = upscale_logits(out)\n",
    "out.shape"
   ]
  },
  {
   "attachments": {},
   "cell_type": "markdown",
   "metadata": {},
   "source": [
    "Necesitamos clasificar cada pixel de la imagen en alguna de las 3 clases posibles\n",
    "(+1 que es no detección). Utilizamos una función `softmax(out, dim=1)` en\n",
    "la profundidad de cada pixel para crear una distribución multinomial que\n",
    "nos entregue la probabilidad de que cada pixel pertenezca a la clase 0, 1, 2 y 3.\n",
    "\n",
    "\n",
    "Esto sería equivalente a `argmax(out, dim=1)` donde `dim=1` es\n",
    "la dimensión donde tenemos nuestras etiquetas."
   ]
  },
  {
   "cell_type": "code",
   "execution_count": 40,
   "metadata": {},
   "outputs": [
    {
     "data": {
      "text/plain": [
       "torch.Size([2, 4, 512, 512])"
      ]
     },
     "execution_count": 40,
     "metadata": {},
     "output_type": "execute_result"
    }
   ],
   "source": [
    "pred_labels = torch.softmax(out, dim=1).detach().cpu()\n",
    "pred_labels.shape"
   ]
  },
  {
   "attachments": {},
   "cell_type": "markdown",
   "metadata": {},
   "source": [
    "Entonces, para el primer pixel..."
   ]
  },
  {
   "cell_type": "code",
   "execution_count": 41,
   "metadata": {},
   "outputs": [
    {
     "data": {
      "text/plain": [
       "tensor([0.2389, 0.2542, 0.2566, 0.2504])"
      ]
     },
     "execution_count": 41,
     "metadata": {},
     "output_type": "execute_result"
    }
   ],
   "source": [
    "pred_labels[0,:,0,0]"
   ]
  },
  {
   "attachments": {},
   "cell_type": "markdown",
   "metadata": {},
   "source": [
    "### Sanity check: overfit a mini-batch with 5 images"
   ]
  },
  {
   "cell_type": "code",
   "execution_count": 99,
   "metadata": {},
   "outputs": [
    {
     "name": "stdout",
     "output_type": "stream",
     "text": [
      "Random seed set as 42313988\n"
     ]
    },
    {
     "name": "stderr",
     "output_type": "stream",
     "text": [
      "Some weights of the model checkpoint at nvidia/mit-b0 were not used when initializing SegformerForSemanticSegmentation: ['classifier.weight', 'classifier.bias']\n",
      "- This IS expected if you are initializing SegformerForSemanticSegmentation from the checkpoint of a model trained on another task or with another architecture (e.g. initializing a BertForSequenceClassification model from a BertForPreTraining model).\n",
      "- This IS NOT expected if you are initializing SegformerForSemanticSegmentation from the checkpoint of a model that you expect to be exactly identical (initializing a BertForSequenceClassification model from a BertForSequenceClassification model).\n",
      "Some weights of SegformerForSemanticSegmentation were not initialized from the model checkpoint at nvidia/mit-b0 and are newly initialized: ['decode_head.classifier.bias', 'decode_head.linear_c.1.proj.bias', 'decode_head.linear_c.1.proj.weight', 'decode_head.linear_c.3.proj.bias', 'decode_head.linear_c.0.proj.bias', 'decode_head.linear_c.3.proj.weight', 'decode_head.linear_c.0.proj.weight', 'decode_head.batch_norm.running_var', 'decode_head.linear_fuse.weight', 'decode_head.classifier.weight', 'decode_head.batch_norm.weight', 'decode_head.linear_c.2.proj.weight', 'decode_head.batch_norm.bias', 'decode_head.batch_norm.running_mean', 'decode_head.linear_c.2.proj.bias', 'decode_head.batch_norm.num_batches_tracked']\n",
      "You should probably TRAIN this model on a down-stream task to be able to use it for predictions and inference.\n"
     ]
    }
   ],
   "source": [
    "set_seed()  # for reproducibility\n",
    "\n",
    "model = SegformerForSemanticSegmentation.from_pretrained(\n",
    "    \"nvidia/mit-b0\",\n",
    "    id2label=dataset._id2label,\n",
    "    label2id=dataset._label2id\n",
    ")\n",
    "\n",
    "model=model.to(device)\n",
    "\n",
    "lr = 1e-4 \n",
    "n_epochs = 1000\n",
    "loss_fn = nn.CrossEntropyLoss()\n",
    "optimizer = torch.optim.AdamW(model.parameters(), lr=lr)\n",
    "\n",
    "# move tensors into the current device\n",
    "xb=xb.to(device)\n",
    "yb=yb.to(device)"
   ]
  },
  {
   "attachments": {},
   "cell_type": "markdown",
   "metadata": {},
   "source": [
    "Predicciones de máscaras con capacidad inicial del modelo."
   ]
  },
  {
   "cell_type": "code",
   "execution_count": 100,
   "metadata": {},
   "outputs": [
    {
     "data": {
      "text/plain": [
       "array([[2, 2, 2, ..., 1, 1, 1],\n",
       "       [2, 2, 2, ..., 1, 1, 1],\n",
       "       [2, 2, 2, ..., 1, 1, 1],\n",
       "       ...,\n",
       "       [1, 1, 1, ..., 2, 1, 1],\n",
       "       [1, 1, 1, ..., 2, 1, 1],\n",
       "       [1, 1, 1, ..., 2, 1, 1]])"
      ]
     },
     "execution_count": 100,
     "metadata": {},
     "output_type": "execute_result"
    }
   ],
   "source": [
    "torch.argmax(torch.softmax(upscale_logits(model(xb)['logits']), dim=1), dim=1).cpu().detach().numpy()[0,:,:]"
   ]
  },
  {
   "cell_type": "code",
   "execution_count": 42,
   "metadata": {},
   "outputs": [
    {
     "data": {
      "image/png": "[encoded data removed]",
      "text/plain": [
       "<Figure size 432x288 with 1 Axes>"
      ]
     },
     "metadata": {
      "needs_background": "light"
     },
     "output_type": "display_data"
    }
   ],
   "source": [
    "grid=torchvision.utils.make_grid(\n",
    "    torch.argmax(torch.softmax(upscale_logits(model(xb)[\"logits\"]), dim=1), dim=1).unsqueeze(1).detach().cpu(),\n",
    "    nrow=2,\n",
    "    pad_value=8)\n",
    "\n",
    "plt.imshow(np.uint8(grid.permute(1,2,0).numpy()) * 255);\n",
    "plt.axis(\"off\");\n",
    "plt.title(f\"Mask predictions without fine-tuning the model\");"
   ]
  },
  {
   "attachments": {},
   "cell_type": "markdown",
   "metadata": {},
   "source": [
    "Memorizar las máscaras del _mini-batch_."
   ]
  },
  {
   "cell_type": "code",
   "execution_count": 102,
   "metadata": {},
   "outputs": [
    {
     "name": "stdout",
     "output_type": "stream",
     "text": [
      "Random seed set as 42313988\n"
     ]
    },
    {
     "name": "stderr",
     "output_type": "stream",
     "text": [
      "  0%|          | 0/1000 [00:00<?, ?it/s]\n"
     ]
    },
    {
     "ename": "RuntimeError",
     "evalue": "0D or 1D target tensor expected, multi-target not supported",
     "output_type": "error",
     "traceback": [
      "\u001b[0;31m---------------------------------------------------------------------------\u001b[0m",
      "\u001b[0;31mRuntimeError\u001b[0m                              Traceback (most recent call last)",
      "\u001b[1;32m/mnt/C992-E9FE/dev/cell-segmentation/playground.ipynb Cell 61\u001b[0m in \u001b[0;36m<cell line: 7>\u001b[0;34m()\u001b[0m\n\u001b[1;32m     <a href='vscode-notebook-cell:/mnt/C992-E9FE/dev/cell-segmentation/playground.ipynb#Y100sZmlsZQ%3D%3D?line=21'>22</a>\u001b[0m optimizer\u001b[39m.\u001b[39mzero_grad()\n\u001b[1;32m     <a href='vscode-notebook-cell:/mnt/C992-E9FE/dev/cell-segmentation/playground.ipynb#Y100sZmlsZQ%3D%3D?line=23'>24</a>\u001b[0m \u001b[39m# Compute the loss\u001b[39;00m\n\u001b[0;32m---> <a href='vscode-notebook-cell:/mnt/C992-E9FE/dev/cell-segmentation/playground.ipynb#Y100sZmlsZQ%3D%3D?line=24'>25</a>\u001b[0m loss \u001b[39m=\u001b[39m loss_fn(preds, target)\n\u001b[1;32m     <a href='vscode-notebook-cell:/mnt/C992-E9FE/dev/cell-segmentation/playground.ipynb#Y100sZmlsZQ%3D%3D?line=26'>27</a>\u001b[0m \u001b[39m# store the current loss value\u001b[39;00m\n\u001b[1;32m     <a href='vscode-notebook-cell:/mnt/C992-E9FE/dev/cell-segmentation/playground.ipynb#Y100sZmlsZQ%3D%3D?line=27'>28</a>\u001b[0m cur_loss \u001b[39m=\u001b[39m loss\u001b[39m.\u001b[39mitem()\n",
      "File \u001b[0;32m~/.pyenv/versions/3.8.5/envs/eda/lib/python3.8/site-packages/torch/nn/modules/module.py:1501\u001b[0m, in \u001b[0;36mModule._call_impl\u001b[0;34m(self, *args, **kwargs)\u001b[0m\n\u001b[1;32m   1496\u001b[0m \u001b[39m# If we don't have any hooks, we want to skip the rest of the logic in\u001b[39;00m\n\u001b[1;32m   1497\u001b[0m \u001b[39m# this function, and just call forward.\u001b[39;00m\n\u001b[1;32m   1498\u001b[0m \u001b[39mif\u001b[39;00m \u001b[39mnot\u001b[39;00m (\u001b[39mself\u001b[39m\u001b[39m.\u001b[39m_backward_hooks \u001b[39mor\u001b[39;00m \u001b[39mself\u001b[39m\u001b[39m.\u001b[39m_backward_pre_hooks \u001b[39mor\u001b[39;00m \u001b[39mself\u001b[39m\u001b[39m.\u001b[39m_forward_hooks \u001b[39mor\u001b[39;00m \u001b[39mself\u001b[39m\u001b[39m.\u001b[39m_forward_pre_hooks\n\u001b[1;32m   1499\u001b[0m         \u001b[39mor\u001b[39;00m _global_backward_pre_hooks \u001b[39mor\u001b[39;00m _global_backward_hooks\n\u001b[1;32m   1500\u001b[0m         \u001b[39mor\u001b[39;00m _global_forward_hooks \u001b[39mor\u001b[39;00m _global_forward_pre_hooks):\n\u001b[0;32m-> 1501\u001b[0m     \u001b[39mreturn\u001b[39;00m forward_call(\u001b[39m*\u001b[39;49margs, \u001b[39m*\u001b[39;49m\u001b[39m*\u001b[39;49mkwargs)\n\u001b[1;32m   1502\u001b[0m \u001b[39m# Do not call functions when jit is used\u001b[39;00m\n\u001b[1;32m   1503\u001b[0m full_backward_hooks, non_full_backward_hooks \u001b[39m=\u001b[39m [], []\n",
      "File \u001b[0;32m~/.pyenv/versions/3.8.5/envs/eda/lib/python3.8/site-packages/torch/nn/modules/loss.py:1174\u001b[0m, in \u001b[0;36mCrossEntropyLoss.forward\u001b[0;34m(self, input, target)\u001b[0m\n\u001b[1;32m   1173\u001b[0m \u001b[39mdef\u001b[39;00m \u001b[39mforward\u001b[39m(\u001b[39mself\u001b[39m, \u001b[39minput\u001b[39m: Tensor, target: Tensor) \u001b[39m-\u001b[39m\u001b[39m>\u001b[39m Tensor:\n\u001b[0;32m-> 1174\u001b[0m     \u001b[39mreturn\u001b[39;00m F\u001b[39m.\u001b[39;49mcross_entropy(\u001b[39minput\u001b[39;49m, target, weight\u001b[39m=\u001b[39;49m\u001b[39mself\u001b[39;49m\u001b[39m.\u001b[39;49mweight,\n\u001b[1;32m   1175\u001b[0m                            ignore_index\u001b[39m=\u001b[39;49m\u001b[39mself\u001b[39;49m\u001b[39m.\u001b[39;49mignore_index, reduction\u001b[39m=\u001b[39;49m\u001b[39mself\u001b[39;49m\u001b[39m.\u001b[39;49mreduction,\n\u001b[1;32m   1176\u001b[0m                            label_smoothing\u001b[39m=\u001b[39;49m\u001b[39mself\u001b[39;49m\u001b[39m.\u001b[39;49mlabel_smoothing)\n",
      "File \u001b[0;32m~/.pyenv/versions/3.8.5/envs/eda/lib/python3.8/site-packages/torch/nn/functional.py:3029\u001b[0m, in \u001b[0;36mcross_entropy\u001b[0;34m(input, target, weight, size_average, ignore_index, reduce, reduction, label_smoothing)\u001b[0m\n\u001b[1;32m   3027\u001b[0m \u001b[39mif\u001b[39;00m size_average \u001b[39mis\u001b[39;00m \u001b[39mnot\u001b[39;00m \u001b[39mNone\u001b[39;00m \u001b[39mor\u001b[39;00m reduce \u001b[39mis\u001b[39;00m \u001b[39mnot\u001b[39;00m \u001b[39mNone\u001b[39;00m:\n\u001b[1;32m   3028\u001b[0m     reduction \u001b[39m=\u001b[39m _Reduction\u001b[39m.\u001b[39mlegacy_get_string(size_average, reduce)\n\u001b[0;32m-> 3029\u001b[0m \u001b[39mreturn\u001b[39;00m torch\u001b[39m.\u001b[39;49m_C\u001b[39m.\u001b[39;49m_nn\u001b[39m.\u001b[39;49mcross_entropy_loss(\u001b[39minput\u001b[39;49m, target, weight, _Reduction\u001b[39m.\u001b[39;49mget_enum(reduction), ignore_index, label_smoothing)\n",
      "\u001b[0;31mRuntimeError\u001b[0m: 0D or 1D target tensor expected, multi-target not supported"
     ]
    }
   ],
   "source": [
    "set_seed()  # for reproducibility\n",
    "\n",
    "# the target will be constant (just one batch)\n",
    "target=flatten_logits(torch.where(yb > 0.0, 1.0, 0.0))\n",
    "lossi=np.zeros(n_epochs)\n",
    "\n",
    "for idx in tqdm(range(n_epochs)):\n",
    "\n",
    "  # Perform a forward pass\n",
    "  logits = model(xb)[\"logits\"]\n",
    "\n",
    "  # Upscale the logit tensor and get the probabilities with the softmax\n",
    "  probs = torch.softmax(upscale_logits(logits), dim=1)\n",
    "\n",
    "  # keep it just the probability for the class transform (dim=1) -> binary class\n",
    "  probs = probs[:, 1, :, :]\n",
    "\n",
    "  # Transform the. probs tensor into one with shape = (batch_size, 512 x 512)\n",
    "  preds = flatten_logits(probs)\n",
    "\n",
    "  # Clean the gradients  \n",
    "  optimizer.zero_grad()\n",
    "\n",
    "  # Compute the loss\n",
    "  loss = loss_fn(preds, target)\n",
    "\n",
    "  # store the current loss value\n",
    "  cur_loss = loss.item()\n",
    "  lossi[idx] = cur_loss\n",
    "\n",
    "  #print(f\"Loss at epoch {idx+1}: {cur_loss:.4f}\")\n",
    "\n",
    "  # Backward prop\n",
    "  loss.backward()\n",
    "\n",
    "  # Update the parameters\n",
    "  optimizer.step()\n",
    "\n",
    "  if idx%100== 0:\n",
    "    print(f\" -- Loss at epoch {idx}: {cur_loss:.4f}\")"
   ]
  },
  {
   "attachments": {},
   "cell_type": "markdown",
   "metadata": {},
   "source": [
    "Inspeccionemos la curva de pérdida..."
   ]
  },
  {
   "cell_type": "code",
   "execution_count": 103,
   "metadata": {},
   "outputs": [
    {
     "data": {
      "image/png": "[encoded data removed]",
      "text/plain": [
       "<Figure size 1080x331.2 with 1 Axes>"
      ]
     },
     "metadata": {
      "needs_background": "light"
     },
     "output_type": "display_data"
    }
   ],
   "source": [
    "plt.figure(figsize=(15, 4.6));\n",
    "plt.plot(lossi, color=\"darkcyan\");\n",
    "plt.xlabel(\"# epochs\");\n",
    "plt.ylabel(\"BCELoss\");"
   ]
  },
  {
   "attachments": {},
   "cell_type": "markdown",
   "metadata": {},
   "source": [
    "Ahora veamos las máscaras luego de memorizarlas."
   ]
  },
  {
   "cell_type": "code",
   "execution_count": null,
   "metadata": {},
   "outputs": [],
   "source": [
    "#@title\n",
    "grid=torchvision.utils.make_grid(\n",
    "    torch.argmax(torch.softmax(upscale_logits(model(xb)[\"logits\"]), dim=1), dim=1).unsqueeze(1).detach().cpu(),\n",
    "    nrow=2,\n",
    "    pad_value=8)\n",
    "\n",
    "plt.imshow(np.uint8(grid.permute(1,2,0).numpy()) * 255);\n",
    "plt.axis(\"off\");\n",
    "plt.title(f\"After {n_epochs} update steps\");"
   ]
  },
  {
   "attachments": {},
   "cell_type": "markdown",
   "metadata": {},
   "source": [
    "Comparemos con las autenticas máscaras..."
   ]
  },
  {
   "cell_type": "code",
   "execution_count": null,
   "metadata": {},
   "outputs": [],
   "source": [
    "grid=torchvision.utils.make_grid(\n",
    "    yb.unsqueeze(1).detach(),\n",
    "    nrow=2,\n",
    "    padding=8,\n",
    "    pad_value=8\n",
    "    )\n",
    "\n",
    "plt.imshow(grid.permute(1,2,0).cpu());\n",
    "plt.axis(\"off\");\n",
    "plt.title(\"Original masks\");"
   ]
  }
 ],
 "metadata": {
  "kernelspec": {
   "display_name": "eda",
   "language": "python",
   "name": "python3"
  },
  "language_info": {
   "codemirror_mode": {
    "name": "ipython",
    "version": 3
   },
   "file_extension": ".py",
   "mimetype": "text/x-python",
   "name": "python",
   "nbconvert_exporter": "python",
   "pygments_lexer": "ipython3",
   "version": "3.8.5"
  },
  "orig_nbformat": 4
 },
 "nbformat": 4,
 "nbformat_minor": 2
}
