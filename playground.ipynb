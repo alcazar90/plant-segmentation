{
 "cells": [
  {
   "attachments": {},
   "cell_type": "markdown",
   "metadata": {},
   "source": [
    "# PlantSegmentation 🌱 + 🔬 - AI4Science: Accelerating experimental loops"
   ]
  },
  {
   "cell_type": "code",
   "execution_count": 63,
   "metadata": {},
   "outputs": [
    {
     "name": "stdout",
     "output_type": "stream",
     "text": [
      "cuda\n"
     ]
    }
   ],
   "source": [
    "import time\n",
    "import numpy as np\n",
    "import matplotlib.pyplot as plt\n",
    "\n",
    "import torch\n",
    "import torch.nn as nn\n",
    "import torchvision\n",
    "\n",
    "from torch.utils.data import DataLoader\n",
    "\n",
    "from dataset import PlantDataset \n",
    "from utils import (\n",
    "    display_masks, \n",
    "    extract_ids_from_name, \n",
    "    extract_tag_from_name,\n",
    "    upscale_logits, # quizas deberian ir al modulo del modelo?\n",
    "    flatten_logits, # quizas deberian ir al modulo del modelo\n",
    "    set_seed,\n",
    "    )\n",
    "\n",
    "from evaluation import compute_intersection_over_union\n",
    "\n",
    "from transformers import (\n",
    "    SegformerForSemanticSegmentation,\n",
    "    SegformerFeatureExtractor\n",
    ")\n",
    "\n",
    "from matplotlib import cm\n",
    "from PIL import Image \n",
    "from tqdm import tqdm\n",
    "\n",
    "device = 'cuda' if torch.cuda.is_available() else 'cpu'\n",
    "print(device)"
   ]
  },
  {
   "cell_type": "code",
   "execution_count": 2,
   "metadata": {},
   "outputs": [
    {
     "name": "stdout",
     "output_type": "stream",
     "text": [
      "Tue May  2 00:35:16 2023       \n",
      "+---------------------------------------------------------------------------------------+\n",
      "| NVIDIA-SMI 530.30.02              Driver Version: 530.30.02    CUDA Version: 12.1     |\n",
      "|-----------------------------------------+----------------------+----------------------+\n",
      "| GPU  Name                  Persistence-M| Bus-Id        Disp.A | Volatile Uncorr. ECC |\n",
      "| Fan  Temp  Perf            Pwr:Usage/Cap|         Memory-Usage | GPU-Util  Compute M. |\n",
      "|                                         |                      |               MIG M. |\n",
      "|=========================================+======================+======================|\n",
      "|   0  NVIDIA GeForce GTX 1050         On | 00000000:01:00.0 Off |                  N/A |\n",
      "| N/A   42C    P8               N/A /  N/A|     11MiB /  4096MiB |      0%      Default |\n",
      "|                                         |                      |                  N/A |\n",
      "+-----------------------------------------+----------------------+----------------------+\n",
      "                                                                                         \n",
      "+---------------------------------------------------------------------------------------+\n",
      "| Processes:                                                                            |\n",
      "|  GPU   GI   CI        PID   Type   Process name                            GPU Memory |\n",
      "|        ID   ID                                                             Usage      |\n",
      "|=======================================================================================|\n",
      "|    0   N/A  N/A      2098      G   /usr/lib/xorg/Xorg                            4MiB |\n",
      "|    0   N/A  N/A      3006      G   /usr/lib/xorg/Xorg                            4MiB |\n",
      "+---------------------------------------------------------------------------------------+\n"
     ]
    }
   ],
   "source": [
    "!nvidia-smi"
   ]
  },
  {
   "attachments": {},
   "cell_type": "markdown",
   "metadata": {},
   "source": [
    "## `PlantDataset` 🌱: navegar por imágenes y máscaras"
   ]
  },
  {
   "cell_type": "code",
   "execution_count": 3,
   "metadata": {},
   "outputs": [],
   "source": [
    "from dataset import PlantDataset, extract_ids_from_name\n",
    "\n",
    "dataset = PlantDataset('data', 'cwt', 'data_inventary.csv')"
   ]
  },
  {
   "attachments": {},
   "cell_type": "markdown",
   "metadata": {},
   "source": [
    "Podemos verificar si `CellDataset` navega correctamente por el directorio\n",
    "y carga los archivos correctos:"
   ]
  },
  {
   "cell_type": "code",
   "execution_count": 4,
   "metadata": {},
   "outputs": [
    {
     "data": {
      "text/plain": [
       "{'image': <PIL.Image.Image image mode=RGB size=2503x1895>,\n",
       " 'masks': ['data/cwt/original_labeled/11/task-11-annotation-53-by-1-tag-normal_cut-0.png',\n",
       "  'data/cwt/original_labeled/11/task-11-annotation-47-by-1-tag-noise-0.png',\n",
       "  'data/cwt/original_labeled/11/task-11-annotation-50-by-1-tag-noise-0.png',\n",
       "  'data/cwt/original_labeled/11/task-11-annotation-51-by-1-tag-noise-0.png',\n",
       "  'data/cwt/original_labeled/11/task-11-annotation-49-by-1-tag-noise-0.png',\n",
       "  'data/cwt/original_labeled/11/task-11-annotation-52-by-1-tag-normal_cut-0.png',\n",
       "  'data/cwt/original_labeled/11/task-11-annotation-46-by-1-tag-normal-0.png',\n",
       "  'data/cwt/original_labeled/11/task-11-annotation-48-by-1-tag-noise-0.png'],\n",
       " 'labels': [1, 2, 2, 2, 2, 1, 0, 2]}"
      ]
     },
     "execution_count": 4,
     "metadata": {},
     "output_type": "execute_result"
    }
   ],
   "source": [
    "dataset[10]"
   ]
  },
  {
   "cell_type": "code",
   "execution_count": 5,
   "metadata": {},
   "outputs": [
    {
     "name": "stdout",
     "output_type": "stream",
     "text": [
      "The image corresponding to idx 4 has the file name 'cwt1_13.jpg'\n",
      "\n",
      "The name of the folder where the masks are stored is 5, and there are 7 masks:\n",
      " -> data/cwt/original_labeled/5/task-5-annotation-24-by-1-tag-normal_cut-0.png\n",
      " -> data/cwt/original_labeled/5/task-5-annotation-22-by-1-tag-noise-0.png\n",
      " -> data/cwt/original_labeled/5/task-5-annotation-21-by-1-tag-noise-0.png\n",
      " -> data/cwt/original_labeled/5/task-5-annotation-23-by-1-tag-normal-0.png\n",
      " -> data/cwt/original_labeled/5/task-5-annotation-27-by-1-tag-noise-0.png\n",
      " -> data/cwt/original_labeled/5/task-5-annotation-25-by-1-tag-noise-0.png\n",
      " -> data/cwt/original_labeled/5/task-5-annotation-26-by-1-tag-noise-0.png\n",
      "The labels of the masks are [1, 2, 2, 0, 2, 2, 2]\n"
     ]
    },
    {
     "data": {
      "image/png": "[encoded data removed]",
      "text/plain": [
       "<PIL.Image.Image image mode=RGB size=225x225>"
      ]
     },
     "execution_count": 5,
     "metadata": {},
     "output_type": "execute_result"
    }
   ],
   "source": [
    "idx=4\n",
    "img, masks, labels = dataset[idx].values()\n",
    "print(f\"The image corresponding to idx {idx} has the file name '{dataset.images[idx]}'\\n\")\n",
    "name_original_img = dataset.images[idx]\n",
    "id_original_img, id_after_split = extract_ids_from_name(name_original_img)\n",
    "mask_idx = dataset.idx_table[(dataset.idx_table['id orginal img'] == id_original_img) & \n",
    "                             (dataset.idx_table['id after split'] == id_after_split)]['id']._values[0]\n",
    "\n",
    "print(f\"The name of the folder where the masks are stored is {mask_idx}, and there are {len(masks)} masks:\")\n",
    "for mn in masks:\n",
    "    print(f\" -> {mn}\")\n",
    "print(f\"The labels of the masks are {labels}\")\n",
    "img.resize((225, 225))"
   ]
  },
  {
   "attachments": {},
   "cell_type": "markdown",
   "metadata": {},
   "source": [
    "Podemos visualizar las máscaras asociadas a esta imagen con la\n",
    "función de utilidad `display_masks`."
   ]
  },
  {
   "cell_type": "code",
   "execution_count": 6,
   "metadata": {},
   "outputs": [
    {
     "data": {
      "image/png": "[encoded data removed]",
      "text/plain": [
       "<PIL.Image.Image image mode=RGB size=1575x225>"
      ]
     },
     "execution_count": 6,
     "metadata": {},
     "output_type": "execute_result"
    }
   ],
   "source": [
    "# TODO: analizar el orden de como se stackean las imagenes de la lista de direcciones en masks\n",
    "# a la PIL.Image en display_masks()\n",
    "from utils import display_masks\n",
    "display_masks(masks)"
   ]
  },
  {
   "attachments": {},
   "cell_type": "markdown",
   "metadata": {},
   "source": [
    "De izquierda a derecha, cada máscara identifica las siguientes instancias."
   ]
  },
  {
   "cell_type": "code",
   "execution_count": 7,
   "metadata": {},
   "outputs": [
    {
     "name": "stdout",
     "output_type": "stream",
     "text": [
      "normal_cut\n",
      "noise\n",
      "noise\n",
      "normal\n",
      "noise\n",
      "noise\n",
      "noise\n"
     ]
    }
   ],
   "source": [
    "for idx in labels:\n",
    "    print(dataset._id2label[idx])"
   ]
  },
  {
   "attachments": {},
   "cell_type": "markdown",
   "metadata": {},
   "source": [
    "La clase `PlantDataset` contiene dos atributos con los diccionarios para\n",
    "mapear la clase a un entero (i.e. `_label2id`) y viceversa (`_id2label`)."
   ]
  },
  {
   "cell_type": "code",
   "execution_count": 8,
   "metadata": {},
   "outputs": [
    {
     "data": {
      "image/png": "[encoded data removed]",
      "text/plain": [
       "<Figure size 432x288 with 1 Axes>"
      ]
     },
     "metadata": {
      "needs_background": "light"
     },
     "output_type": "display_data"
    }
   ],
   "source": [
    "plt.hist(dataset.get_number_of_masks());\n",
    "plt.title('Distribución del número de máscaras por imagen');"
   ]
  },
  {
   "attachments": {},
   "cell_type": "markdown",
   "metadata": {},
   "source": [
    "Hay una imagen con 13 máscaras asociadas..."
   ]
  },
  {
   "cell_type": "code",
   "execution_count": 9,
   "metadata": {},
   "outputs": [
    {
     "data": {
      "image/png": "[encoded data removed]",
      "text/plain": [
       "<PIL.Image.Image image mode=RGB size=250x250>"
      ]
     },
     "metadata": {},
     "output_type": "display_data"
    },
    {
     "data": {
      "image/png": "[encoded data removed]",
      "text/plain": [
       "<PIL.Image.Image image mode=RGB size=2925x225>"
      ]
     },
     "execution_count": 9,
     "metadata": {},
     "output_type": "execute_result"
    }
   ],
   "source": [
    "idx_13masks = dataset.get_number_of_masks().index(13)\n",
    "\n",
    "display(dataset[idx_13masks]['image'].resize((250, 250)))\n",
    "\n",
    "display_masks(dataset[idx_13masks]['masks'])"
   ]
  },
  {
   "attachments": {},
   "cell_type": "markdown",
   "metadata": {},
   "source": [
    "Podemos ver cuantas máscaras hay por clase con el método `dataset.get_masks_per_labels()`:"
   ]
  },
  {
   "cell_type": "code",
   "execution_count": 10,
   "metadata": {},
   "outputs": [
    {
     "data": {
      "text/plain": [
       "(array(['noise', 'normal', 'normal_cut'], dtype='<U10'),\n",
       " array([119,  99,  98]))"
      ]
     },
     "execution_count": 10,
     "metadata": {},
     "output_type": "execute_result"
    }
   ],
   "source": [
    "dataset.get_masks_per_labels()"
   ]
  },
  {
   "attachments": {},
   "cell_type": "markdown",
   "metadata": {},
   "source": [
    "## Collate Function + DataLoader: bonito, bonito, pero quiero tensores"
   ]
  },
  {
   "attachments": {},
   "cell_type": "markdown",
   "metadata": {},
   "source": [
    "### Un canal para cada etiqueta, un entero para cada instancia"
   ]
  },
  {
   "attachments": {},
   "cell_type": "markdown",
   "metadata": {},
   "source": [
    "Ahora nos enfocaremos en construir el _target_ de una observación. Necesitamos\n",
    "crear un tensor a partir de todas las posibles máscaras y etiquetas asociadas\n",
    "a una imagen, dentro del cual se identifican instancias particulares a una clase\n",
    "dentro de la misma matriz. Tendremos 3 matrices, 1 por cada clase, y todas\n",
    "apiladas en una dimensión adicional en el mismo tensor. Esto será el _target_\n",
    "para cada imagen. "
   ]
  },
  {
   "cell_type": "code",
   "execution_count": 11,
   "metadata": {},
   "outputs": [
    {
     "data": {
      "text/plain": [
       "['data/cwt/original_labeled/5/task-5-annotation-24-by-1-tag-normal_cut-0.png',\n",
       " 'data/cwt/original_labeled/5/task-5-annotation-22-by-1-tag-noise-0.png',\n",
       " 'data/cwt/original_labeled/5/task-5-annotation-21-by-1-tag-noise-0.png',\n",
       " 'data/cwt/original_labeled/5/task-5-annotation-23-by-1-tag-normal-0.png',\n",
       " 'data/cwt/original_labeled/5/task-5-annotation-27-by-1-tag-noise-0.png',\n",
       " 'data/cwt/original_labeled/5/task-5-annotation-25-by-1-tag-noise-0.png',\n",
       " 'data/cwt/original_labeled/5/task-5-annotation-26-by-1-tag-noise-0.png']"
      ]
     },
     "execution_count": 11,
     "metadata": {},
     "output_type": "execute_result"
    }
   ],
   "source": [
    "# dado una imagen leer en tensores todas las etiquetas\n",
    "idx=4\n",
    "img, masks, labels = dataset[idx].values()\n",
    "masks"
   ]
  },
  {
   "attachments": {},
   "cell_type": "markdown",
   "metadata": {},
   "source": [
    "Usando un solo ejemplo, leemos sus máscaras y las transformamos a\n",
    "tensores de PyTorch. Agrupamos todos los tensores asociados a una etiqueta,\n",
    "tenemos 3 distintas, por lo tanto terminamos con 3 tensores que agrupan\n",
    "en un canal todas las máscaras con la misma etiqueta."
   ]
  },
  {
   "cell_type": "code",
   "execution_count": 12,
   "metadata": {},
   "outputs": [
    {
     "data": {
      "text/plain": [
       "(torch.Size([1, 17, 17]), torch.Size([1, 17, 17]), torch.Size([5, 17, 17]))"
      ]
     },
     "execution_count": 12,
     "metadata": {},
     "output_type": "execute_result"
    }
   ],
   "source": [
    "from torchvision.transforms import ToTensor\n",
    "\n",
    "# obtengamos la información para un ejemplo\n",
    "idx=4\n",
    "img, masks, labels = dataset[idx].values()\n",
    "\n",
    "# crear id de instancias\n",
    "instance_idxs = torch.tensor([l+1 for l in range(len(labels))], dtype=torch.long)\n",
    "tfms = ToTensor()\n",
    "\n",
    "# leer las mascaras por etiquetas, transformarlas a tensores, y concatenarlos en una dimensión\n",
    "# adicional. Creamos un tensor por cada etiqueta\n",
    "# TODO: cómo hacerlo todo una pasada?\n",
    "R=(17,17)\n",
    "m0 = torch.cat([torch.where(tfms(Image.open(m).resize(R)) > 0.0, 1.0, 0.0) * instance_idxs[l] for l, m in enumerate(masks) if labels[l] == 0])\n",
    "m1 = torch.cat([torch.where(tfms(Image.open(m).resize(R)) > 0.0, 1.0, 0.0) * instance_idxs[l] for l, m in enumerate(masks) if labels[l] == 1])\n",
    "m2 = torch.cat([torch.where(tfms(Image.open(m).resize(R)) > 0.0, 1.0, 0.0) * instance_idxs[l] for l, m in enumerate(masks) if labels[l] == 2])\n",
    "m0.shape, m1.shape, m2.shape"
   ]
  },
  {
   "attachments": {},
   "cell_type": "markdown",
   "metadata": {},
   "source": [
    "Notemos que la etiqueta asociada al índice 2 (i.e. `noise`) tiene 5 máscaras\n",
    "asociadas, las otras dos etiquetas solo una. Necesitamos ahora fundir cada\n",
    "uno de estos tensores con 3 dimensiones `(mask_id, height, width)` a \n",
    "`(height, width)` donde en cada pixel haya un número asociado a la instancia.\n",
    "\n",
    "Partamos con el tensor que agrupa las máscaras `noise` y tiene 5 instancais\n",
    "asociadas."
   ]
  },
  {
   "cell_type": "code",
   "execution_count": 13,
   "metadata": {},
   "outputs": [
    {
     "name": "stdout",
     "output_type": "stream",
     "text": [
      "Id de instancia: tensor([1, 2, 3, 4, 5, 6, 7])\n"
     ]
    },
    {
     "data": {
      "text/plain": [
       "tensor([0., 2., 3., 5., 6., 7.])"
      ]
     },
     "execution_count": 13,
     "metadata": {},
     "output_type": "execute_result"
    }
   ],
   "source": [
    "# revisamos sus ids de instancia\n",
    "print('Id de instancia:', instance_idxs)\n",
    "m2.unique()"
   ]
  },
  {
   "attachments": {},
   "cell_type": "markdown",
   "metadata": {},
   "source": [
    "Recordemos que el valor 0 esta reservado para la etiqueta de ausencia (no label).\n",
    "Así que las instancias parten desde el 1, ..., a tantas máscaras tenga asociada\n",
    "la observación. No tienen porque tener un orden asociado según la clase.\n",
    "\n",
    "Ahora podemos colapsar el canal que tiene cada mascara en una sola, sumando\n",
    "todas las matrices a lo largo de este canal, element por elemento. Asumiendo\n",
    "que no tenemos ninguna instancia asolapada, cada pixel debería tener un id\n",
    "identificando a la máscara particular que pertenece. El resto de los valores\n",
    "será 0 que significa que no hay ningúna clase que identificamos en ese pixel."
   ]
  },
  {
   "attachments": {},
   "cell_type": "markdown",
   "metadata": {},
   "source": [
    "Recordemos que en nuestro ejemplo reducimos la resolución de las máscaras a\n",
    "10x10 para lograr visualizarlas completa. Estas son las máscaras asociadas\n",
    "a la etiqueta 2 que es `noise`. Originalmente habían 5 de 7 máscaras en\n",
    "esta observación que se identifican a esta etiqueta. Sin embargo, en su \n",
    "versión matricial solo vemos 4 enteros distintos, esto es porque uno \n",
    "se perdió por la reducción de tamaño de imagen. \n",
    "\n",
    "Veámos las clases de cada máscara y los ids para identificar a cada una \n",
    "de ellas."
   ]
  },
  {
   "cell_type": "code",
   "execution_count": 14,
   "metadata": {},
   "outputs": [
    {
     "data": {
      "text/plain": [
       "tensor([[0., 0., 0., 0., 0., 0., 0., 0., 0., 0., 0., 0., 0., 0., 0., 0., 0.],\n",
       "        [0., 0., 0., 0., 0., 0., 0., 0., 0., 0., 0., 0., 0., 0., 0., 0., 0.],\n",
       "        [0., 0., 0., 0., 0., 0., 0., 0., 0., 0., 0., 0., 0., 0., 0., 0., 0.],\n",
       "        [0., 0., 0., 0., 0., 0., 0., 0., 0., 0., 0., 0., 0., 0., 0., 0., 0.],\n",
       "        [0., 0., 0., 0., 0., 0., 0., 0., 4., 4., 0., 0., 0., 0., 0., 0., 0.],\n",
       "        [0., 0., 0., 0., 0., 0., 0., 0., 4., 4., 4., 4., 0., 0., 0., 0., 0.],\n",
       "        [0., 0., 0., 0., 0., 0., 0., 0., 4., 4., 4., 4., 0., 0., 0., 0., 0.],\n",
       "        [0., 0., 0., 0., 0., 0., 0., 0., 4., 4., 4., 4., 0., 0., 0., 0., 0.],\n",
       "        [0., 0., 0., 0., 0., 0., 0., 0., 0., 4., 4., 0., 0., 0., 0., 0., 0.],\n",
       "        [0., 0., 0., 0., 0., 0., 0., 0., 4., 4., 4., 0., 0., 0., 0., 0., 0.],\n",
       "        [0., 0., 0., 0., 0., 0., 0., 0., 4., 4., 0., 0., 0., 0., 0., 0., 0.],\n",
       "        [0., 0., 0., 0., 0., 0., 0., 0., 4., 0., 0., 0., 0., 0., 0., 0., 0.],\n",
       "        [0., 0., 0., 0., 0., 0., 0., 0., 0., 0., 0., 0., 0., 0., 0., 0., 0.],\n",
       "        [0., 0., 0., 0., 0., 0., 0., 0., 0., 0., 0., 0., 0., 0., 0., 0., 0.],\n",
       "        [0., 0., 0., 0., 0., 0., 0., 0., 0., 0., 0., 0., 0., 0., 0., 0., 0.],\n",
       "        [0., 0., 0., 0., 0., 0., 0., 0., 0., 0., 0., 0., 0., 0., 0., 0., 0.],\n",
       "        [0., 0., 0., 0., 0., 0., 0., 0., 0., 0., 0., 0., 0., 0., 0., 0., 0.]])"
      ]
     },
     "execution_count": 14,
     "metadata": {},
     "output_type": "execute_result"
    }
   ],
   "source": [
    "m0.sum(dim=0)"
   ]
  },
  {
   "attachments": {},
   "cell_type": "markdown",
   "metadata": {},
   "source": [
    "Si vemos la imagen a clasificar, es posible identificar con los\n",
    "enteros de la matriz de arriba las zonas donde se clasificaron \n",
    "como ruído. Por la resolución, hay un par de puntos que son díficiles\n",
    "de ver, pero las instancias representadas por 3 y 2 son fáciles de mapear\n",
    "de la matriz a la imagen."
   ]
  },
  {
   "cell_type": "code",
   "execution_count": 15,
   "metadata": {},
   "outputs": [
    {
     "data": {
      "image/png": "[encoded data removed]",
      "text/plain": [
       "<PIL.Image.Image image mode=RGB size=450x450>"
      ]
     },
     "execution_count": 15,
     "metadata": {},
     "output_type": "execute_result"
    }
   ],
   "source": [
    "img.resize((450,450))"
   ]
  },
  {
   "attachments": {},
   "cell_type": "markdown",
   "metadata": {},
   "source": [
    "Este procedimiento se debe realizar por cada clase, luego debemos\n",
    "apilar 3 matrices como la de arriba, en un solo tensor que tendrá\n",
    "las dimensiones `(Batch, Clase, Altura, Ancho)`, y serán nuestras etiquetas\n",
    "asociadas a la observación. \n",
    "\n",
    "A continuación una representación visual de lo que estamos haciendo pero\n",
    "con más clases (Fuente: [Jemery Jordan Blog](https://www.jeremyjordan.me/semantic-segmentation/#:~:text=The%20most%20commonly%20used%20loss,one%2Dhot%20encoded%20target%20vector))."
   ]
  },
  {
   "attachments": {},
   "cell_type": "markdown",
   "metadata": {},
   "source": [
    "![Source: Fuente Jeremy Jordan Blog](https://www.jeremyjordan.me/content/images/2018/05/Screen-Shot-2018-05-16-at-9.36.00-PM.png)"
   ]
  },
  {
   "cell_type": "code",
   "execution_count": 16,
   "metadata": {},
   "outputs": [],
   "source": [
    "def get_target(masks, labels, tfms, size=(250, 250), num_classes=4):\n",
    "    \"\"\" \n",
    "        Recibe una lista de máscaras y una lista de etiquetas, retorna\n",
    "        un tensor de dimensiones (n_classes, height, widht). En cada clase,\n",
    "        cualquier entero distinto a 0 representa a uns instancia particular\n",
    "        de la clase. El entero 0 se reserva para background/no-clase.\n",
    "    \"\"\"\n",
    "    # creamos tensor para almacenar máscaras por clase en cada canal (dim 1)\n",
    "    # NOTA: la última es ausencia o ninguna detecctión \n",
    "    out = torch.zeros((1, num_classes, size[0], size[1]))\n",
    "\n",
    "    # si no hay máscaras, retornamos el tensor\n",
    "    if len(masks) == 0:\n",
    "        return out\n",
    "\n",
    "    # crear un entero que represente cada instancia de las mascaras asociadas\n",
    "    # a la observación. No siguen un orden necesario tipo todas las de la clase 0\n",
    "    # parten al principio, se encuentran según el orden de los labels. El entero\n",
    "    # 0 se reserva como background/no-clase\n",
    "    instance_idxs = torch.tensor([l+1 for l in range(len(labels))], dtype=torch.long)\n",
    "\n",
    "    # iteramos sobre cada clase para procesar las máscaras asociadas a estas,\n",
    "    # agregar un identificador de instancias y colapsar en una sola matriz\n",
    "    # Supuesto: no hay clase sobrelapadas. Si hay, se debe hacer un proceso\n",
    "    # adicional para ver que entero se asigna al pixel correspondiente\n",
    "    for l in list(set(labels)):\n",
    "        x = torch.cat([torch.where(tfms(Image.open(m).resize(size)) > 0.0, 1.0, 0.0) * instance_idxs[i] for i, m in enumerate(masks) if labels[i] == l])\n",
    "        out[0, l, :, :] = x.sum(dim=0)\n",
    "\n",
    "    return out"
   ]
  },
  {
   "cell_type": "code",
   "execution_count": 17,
   "metadata": {},
   "outputs": [
    {
     "data": {
      "text/plain": [
       "tensor([[[[0., 0., 0., 0., 0., 0., 0., 0., 0., 0.],\n",
       "          [0., 0., 0., 0., 0., 0., 0., 0., 0., 0.],\n",
       "          [0., 0., 0., 0., 0., 4., 0., 0., 0., 0.],\n",
       "          [0., 0., 0., 0., 4., 4., 4., 4., 0., 0.],\n",
       "          [0., 0., 0., 0., 0., 4., 4., 0., 0., 0.],\n",
       "          [0., 0., 0., 0., 4., 4., 4., 0., 0., 0.],\n",
       "          [0., 0., 0., 0., 4., 4., 0., 0., 0., 0.],\n",
       "          [0., 0., 0., 0., 0., 0., 0., 0., 0., 0.],\n",
       "          [0., 0., 0., 0., 0., 0., 0., 0., 0., 0.],\n",
       "          [0., 0., 0., 0., 0., 0., 0., 0., 0., 0.]],\n",
       "\n",
       "         [[0., 0., 0., 0., 0., 0., 0., 0., 0., 1.],\n",
       "          [0., 0., 0., 0., 0., 0., 0., 0., 0., 1.],\n",
       "          [0., 0., 0., 0., 0., 0., 0., 0., 0., 0.],\n",
       "          [0., 0., 0., 0., 0., 0., 0., 0., 0., 0.],\n",
       "          [0., 0., 0., 0., 0., 0., 0., 0., 0., 0.],\n",
       "          [0., 0., 0., 0., 0., 0., 0., 0., 0., 0.],\n",
       "          [0., 0., 0., 0., 0., 0., 0., 0., 0., 0.],\n",
       "          [0., 0., 0., 0., 0., 0., 0., 0., 0., 0.],\n",
       "          [0., 0., 0., 0., 0., 0., 0., 0., 0., 0.],\n",
       "          [0., 0., 0., 0., 0., 0., 0., 0., 0., 0.]],\n",
       "\n",
       "         [[3., 0., 0., 0., 0., 0., 0., 0., 0., 0.],\n",
       "          [3., 0., 0., 0., 0., 0., 0., 0., 0., 0.],\n",
       "          [0., 0., 0., 0., 0., 0., 0., 0., 0., 0.],\n",
       "          [0., 0., 0., 0., 0., 0., 0., 0., 0., 0.],\n",
       "          [0., 0., 0., 0., 0., 0., 0., 0., 0., 0.],\n",
       "          [0., 0., 0., 0., 0., 0., 0., 0., 0., 0.],\n",
       "          [0., 2., 2., 0., 0., 0., 0., 0., 0., 0.],\n",
       "          [0., 2., 2., 0., 0., 0., 0., 6., 0., 0.],\n",
       "          [0., 0., 0., 0., 5., 0., 0., 0., 0., 0.],\n",
       "          [0., 0., 0., 0., 0., 0., 0., 0., 0., 0.]],\n",
       "\n",
       "         [[0., 0., 0., 0., 0., 0., 0., 0., 0., 0.],\n",
       "          [0., 0., 0., 0., 0., 0., 0., 0., 0., 0.],\n",
       "          [0., 0., 0., 0., 0., 0., 0., 0., 0., 0.],\n",
       "          [0., 0., 0., 0., 0., 0., 0., 0., 0., 0.],\n",
       "          [0., 0., 0., 0., 0., 0., 0., 0., 0., 0.],\n",
       "          [0., 0., 0., 0., 0., 0., 0., 0., 0., 0.],\n",
       "          [0., 0., 0., 0., 0., 0., 0., 0., 0., 0.],\n",
       "          [0., 0., 0., 0., 0., 0., 0., 0., 0., 0.],\n",
       "          [0., 0., 0., 0., 0., 0., 0., 0., 0., 0.],\n",
       "          [0., 0., 0., 0., 0., 0., 0., 0., 0., 0.]]]])"
      ]
     },
     "execution_count": 17,
     "metadata": {},
     "output_type": "execute_result"
    }
   ],
   "source": [
    "idx=4\n",
    "img, masks, labels = dataset[idx].values()\n",
    "get_target(masks, labels, tfms, size=((10, 10)))"
   ]
  },
  {
   "cell_type": "code",
   "execution_count": 18,
   "metadata": {},
   "outputs": [
    {
     "data": {
      "image/png": "[encoded data removed]",
      "text/plain": [
       "<PIL.Image.Image image mode=RGB size=250x250>"
      ]
     },
     "execution_count": 18,
     "metadata": {},
     "output_type": "execute_result"
    }
   ],
   "source": [
    "img.resize((250, 250))"
   ]
  },
  {
   "attachments": {},
   "cell_type": "markdown",
   "metadata": {},
   "source": [
    "### Collate function y DataLoaders"
   ]
  },
  {
   "attachments": {},
   "cell_type": "markdown",
   "metadata": {},
   "source": [
    "Sabemos como obtener los _targets_ a partir de las máscaras asociadas a una observación.\n",
    "Ahora, aplicaremos la transformación a la imagen del input."
   ]
  },
  {
   "attachments": {},
   "cell_type": "markdown",
   "metadata": {},
   "source": [
    "Primero, las imágenes como _input_ se le aplican una serie de\n",
    "transformaciones para adaptarlo al modelo SegFormer. Estas transformaciones\n",
    "se pueden instanciar con `SegformerFeatureExtractor()`. Toma una imagen\n",
    "en forma `PIL.Image` y entrega una lista con un array que puede ser\n",
    "adaptado a numpy, torch, jax, etcétera."
   ]
  },
  {
   "attachments": {},
   "cell_type": "markdown",
   "metadata": {},
   "source": [
    "¿Qué pasa con las máscaras?"
   ]
  },
  {
   "cell_type": "code",
   "execution_count": 21,
   "metadata": {},
   "outputs": [
    {
     "name": "stderr",
     "output_type": "stream",
     "text": [
      "/home/alkzar/.pyenv/versions/3.8.5/envs/eda/lib/python3.8/site-packages/transformers/models/segformer/feature_extraction_segformer.py:28: FutureWarning: The class SegformerFeatureExtractor is deprecated and will be removed in version 5 of Transformers. Please use SegformerImageProcessor instead.\n",
      "  warnings.warn(\n",
      "/home/alkzar/.pyenv/versions/3.8.5/envs/eda/lib/python3.8/site-packages/transformers/models/segformer/image_processing_segformer.py:99: FutureWarning: The `reduce_labels` parameter is deprecated and will be removed in a future version. Please use `do_reduce_labels` instead.\n",
      "  warnings.warn(\n",
      "Some weights of the model checkpoint at nvidia/mit-b0 were not used when initializing SegformerForSemanticSegmentation: ['classifier.weight', 'classifier.bias']\n",
      "- This IS expected if you are initializing SegformerForSemanticSegmentation from the checkpoint of a model trained on another task or with another architecture (e.g. initializing a BertForSequenceClassification model from a BertForPreTraining model).\n",
      "- This IS NOT expected if you are initializing SegformerForSemanticSegmentation from the checkpoint of a model that you expect to be exactly identical (initializing a BertForSequenceClassification model from a BertForSequenceClassification model).\n",
      "Some weights of SegformerForSemanticSegmentation were not initialized from the model checkpoint at nvidia/mit-b0 and are newly initialized: ['decode_head.linear_c.0.proj.weight', 'decode_head.batch_norm.running_mean', 'decode_head.linear_fuse.weight', 'decode_head.batch_norm.bias', 'decode_head.linear_c.2.proj.bias', 'decode_head.batch_norm.weight', 'decode_head.batch_norm.running_var', 'decode_head.classifier.weight', 'decode_head.linear_c.1.proj.weight', 'decode_head.classifier.bias', 'decode_head.batch_norm.num_batches_tracked', 'decode_head.linear_c.0.proj.bias', 'decode_head.linear_c.2.proj.weight', 'decode_head.linear_c.1.proj.bias', 'decode_head.linear_c.3.proj.weight', 'decode_head.linear_c.3.proj.bias']\n",
      "You should probably TRAIN this model on a down-stream task to be able to use it for predictions and inference.\n"
     ]
    }
   ],
   "source": [
    "from transformers import SegformerForSemanticSegmentation, SegformerFeatureExtractor\n",
    "    \n",
    "feature_extractor = SegformerFeatureExtractor.from_pretrained(\"nvidia/mit-b0\")\n",
    "model = SegformerForSemanticSegmentation.from_pretrained(\"nvidia/mit-b0\")\n"
   ]
  },
  {
   "cell_type": "code",
   "execution_count": 22,
   "metadata": {},
   "outputs": [],
   "source": [
    "# Create a collate function to stack the masks as channels in the same tensor\n",
    "def collate_fn(batch):\n",
    "    \"\"\"\n",
    "        Collate function to stack the masks as channels in the same tensor.\n",
    "    \"\"\"\n",
    "    # Acá se pueden agregar todas las transformaciones adicionales de preproceso que\n",
    "    # se requieran para las máscaras. La única esencial es pasar una PIL.Image a tensor\n",
    "    tfms = ToTensor()\n",
    "    images = torch.cat([feature_extractor(example['image'], return_tensors='pt')['pixel_values'] for example in batch])\n",
    "    masks = [example['masks'] for example in batch]\n",
    "    labels = [example['labels'] for example in batch]\n",
    "    targets = torch.cat([get_target(x[0], x[1], tfms, size=(512,512)) for x in zip(masks, labels)])\n",
    "\n",
    "    # transformar a 1 cuando haya un entero distinto a 0 (semantic segmentation)\n",
    "    targets = torch.where(targets > 0.0, 1.0, 0.0)\n",
    "    return images, targets\n"
   ]
  },
  {
   "cell_type": "code",
   "execution_count": 23,
   "metadata": {},
   "outputs": [
    {
     "data": {
      "text/plain": [
       "(torch.Size([2, 3, 512, 512]), torch.Size([2, 4, 512, 512]))"
      ]
     },
     "execution_count": 23,
     "metadata": {},
     "output_type": "execute_result"
    }
   ],
   "source": [
    "from torch.utils.data import DataLoader\n",
    "\n",
    "# Create a DataLoader object to stacking each mask as a channel in the same tensor\n",
    "# and to shuffle the dataset\n",
    "dataloader = DataLoader(dataset, batch_size=2, shuffle=True, num_workers=0,\n",
    "                        collate_fn=collate_fn)\n",
    "\n",
    "xb, yb = next(iter(dataloader))\n",
    "xb.shape, yb.shape"
   ]
  },
  {
   "attachments": {},
   "cell_type": "markdown",
   "metadata": {},
   "source": [
    "## SegFormer"
   ]
  },
  {
   "attachments": {},
   "cell_type": "markdown",
   "metadata": {},
   "source": [
    "### Sanity check I: understanding the output models"
   ]
  },
  {
   "cell_type": "code",
   "execution_count": 24,
   "metadata": {},
   "outputs": [],
   "source": [
    "dataset._id2label[3] = 'non-detection'\n",
    "dataset._label2id['non-detection'] = 3"
   ]
  },
  {
   "cell_type": "code",
   "execution_count": 22,
   "metadata": {},
   "outputs": [
    {
     "name": "stdout",
     "output_type": "stream",
     "text": [
      "Random seed set as 42313988\n"
     ]
    },
    {
     "name": "stderr",
     "output_type": "stream",
     "text": [
      "Some weights of the model checkpoint at nvidia/mit-b0 were not used when initializing SegformerForSemanticSegmentation: ['classifier.bias', 'classifier.weight']\n",
      "- This IS expected if you are initializing SegformerForSemanticSegmentation from the checkpoint of a model trained on another task or with another architecture (e.g. initializing a BertForSequenceClassification model from a BertForPreTraining model).\n",
      "- This IS NOT expected if you are initializing SegformerForSemanticSegmentation from the checkpoint of a model that you expect to be exactly identical (initializing a BertForSequenceClassification model from a BertForSequenceClassification model).\n",
      "Some weights of SegformerForSemanticSegmentation were not initialized from the model checkpoint at nvidia/mit-b0 and are newly initialized: ['decode_head.classifier.weight', 'decode_head.linear_c.1.proj.weight', 'decode_head.linear_c.2.proj.weight', 'decode_head.linear_c.2.proj.bias', 'decode_head.linear_c.0.proj.weight', 'decode_head.classifier.bias', 'decode_head.linear_c.1.proj.bias', 'decode_head.batch_norm.num_batches_tracked', 'decode_head.batch_norm.running_var', 'decode_head.linear_c.3.proj.bias', 'decode_head.linear_fuse.weight', 'decode_head.linear_c.3.proj.weight', 'decode_head.batch_norm.running_mean', 'decode_head.batch_norm.bias', 'decode_head.linear_c.0.proj.bias', 'decode_head.batch_norm.weight']\n",
      "You should probably TRAIN this model on a down-stream task to be able to use it for predictions and inference.\n"
     ]
    },
    {
     "data": {
      "text/plain": [
       "(torch.Size([2, 3, 512, 512]), torch.Size([2, 4, 512, 512]))"
      ]
     },
     "execution_count": 22,
     "metadata": {},
     "output_type": "execute_result"
    }
   ],
   "source": [
    "set_seed()  # for reproducibility\n",
    "\n",
    "# initialize model\n",
    "dataset._id2label[3] = 'non-detection'\n",
    "dataset._label2id['non-detection'] = 3\n",
    "\n",
    "model = SegformerForSemanticSegmentation.from_pretrained(\n",
    "    \"nvidia/mit-b0\",\n",
    "    id2label=dataset._id2label,\n",
    "    label2id=dataset._label2id\n",
    ")\n",
    "\n",
    "# model to device\n",
    "model=model.to(device)\n",
    "\n",
    "lr = 1e-4 \n",
    "n_epochs = 1000\n",
    "loss_fn = nn.CrossEntropyLoss()\n",
    "optimizer = torch.optim.AdamW(model.parameters(), lr=lr)\n",
    "\n",
    "xb=xb.to(device)\n",
    "yb=yb.to(device)\n",
    "xb.shape, yb.shape"
   ]
  },
  {
   "attachments": {},
   "cell_type": "markdown",
   "metadata": {},
   "source": [
    "Analicemos el _output_ que nos entrega un modelo al pasarle un\n",
    "_batch_ con dos ejemplos."
   ]
  },
  {
   "cell_type": "code",
   "execution_count": 23,
   "metadata": {},
   "outputs": [
    {
     "data": {
      "text/plain": [
       "torch.Size([2, 4, 128, 128])"
      ]
     },
     "execution_count": 23,
     "metadata": {},
     "output_type": "execute_result"
    }
   ],
   "source": [
    "model.eval()\n",
    "out = model(xb)['logits']\n",
    "out.shape"
   ]
  },
  {
   "attachments": {},
   "cell_type": "markdown",
   "metadata": {},
   "source": [
    "Escalamos los logits a la resolución de entrada de la imagen, utilizamos\n",
    "`upscale_logits`."
   ]
  },
  {
   "cell_type": "code",
   "execution_count": 24,
   "metadata": {},
   "outputs": [
    {
     "data": {
      "text/plain": [
       "torch.Size([2, 4, 512, 512])"
      ]
     },
     "execution_count": 24,
     "metadata": {},
     "output_type": "execute_result"
    }
   ],
   "source": [
    "out = upscale_logits(out)\n",
    "out.shape"
   ]
  },
  {
   "attachments": {},
   "cell_type": "markdown",
   "metadata": {},
   "source": [
    "Necesitamos clasificar cada pixel de la imagen en alguna de las 3 clases posibles\n",
    "(+1 que es no detección). Utilizamos una función `softmax(out, dim=1)` en\n",
    "la profundidad de cada pixel para crear una distribución multinomial que\n",
    "nos entregue la probabilidad de que cada pixel pertenezca a la clase 0, 1, 2 y 3.\n",
    "\n",
    "\n",
    "Esto sería equivalente a `argmax(out, dim=1)` donde `dim=1` es\n",
    "la dimensión donde tenemos nuestras etiquetas."
   ]
  },
  {
   "cell_type": "code",
   "execution_count": 25,
   "metadata": {},
   "outputs": [
    {
     "data": {
      "text/plain": [
       "torch.Size([2, 4, 512, 512])"
      ]
     },
     "execution_count": 25,
     "metadata": {},
     "output_type": "execute_result"
    }
   ],
   "source": [
    "pred_labels = torch.softmax(out, dim=1).detach().cpu()\n",
    "pred_labels.shape"
   ]
  },
  {
   "attachments": {},
   "cell_type": "markdown",
   "metadata": {},
   "source": [
    "Entonces, para el primer pixel las predicciones respecto a los 4 outputs\n",
    "son practicamente uniformes."
   ]
  },
  {
   "cell_type": "code",
   "execution_count": 26,
   "metadata": {},
   "outputs": [
    {
     "data": {
      "text/plain": [
       "tensor([0.2384, 0.2532, 0.2606, 0.2478])"
      ]
     },
     "execution_count": 26,
     "metadata": {},
     "output_type": "execute_result"
    }
   ],
   "source": [
    "pred_labels[0,:,0,0]"
   ]
  },
  {
   "attachments": {},
   "cell_type": "markdown",
   "metadata": {},
   "source": [
    "Cómo comparar la predicción de cada pixel usando `nn.CrossEntropyLoss`?"
   ]
  },
  {
   "cell_type": "code",
   "execution_count": 27,
   "metadata": {},
   "outputs": [
    {
     "data": {
      "text/plain": [
       "tensor(199251.1562, device='cuda:0', grad_fn=<DivBackward1>)"
      ]
     },
     "execution_count": 27,
     "metadata": {},
     "output_type": "execute_result"
    }
   ],
   "source": [
    "loss_fn = nn.CrossEntropyLoss()\n",
    "\n",
    "model.eval()\n",
    "loss_fn(\n",
    "    flatten_logits(out),\n",
    "    flatten_logits(yb)\n",
    ")"
   ]
  },
  {
   "attachments": {},
   "cell_type": "markdown",
   "metadata": {},
   "source": [
    "Utilizar `ignore_index` para ignorar la clase `non-detection` en el \n",
    "calculo de la función de costo.\n",
    "\n",
    "Ver documentación de [`nn.CrossEntropyLoss`](https://pytorch.org/docs/stable/generated/torch.nn.CrossEntropyLoss.html?highlight=crossentropyloss#torch.nn.CrossEntropyLoss)."
   ]
  },
  {
   "cell_type": "code",
   "execution_count": 61,
   "metadata": {},
   "outputs": [],
   "source": [
    "loss_fn = nn.CrossEntropyLoss(ignore_index=3)"
   ]
  },
  {
   "cell_type": "code",
   "execution_count": 62,
   "metadata": {},
   "outputs": [
    {
     "data": {
      "text/plain": [
       "tensor(1.4106, device='cuda:0', grad_fn=<NllLoss2DBackward0>)"
      ]
     },
     "execution_count": 62,
     "metadata": {},
     "output_type": "execute_result"
    }
   ],
   "source": [
    "# computar loss con indice de clases y no probabilidades (argmax en yb)\n",
    "loss_fn(\n",
    "    out,\n",
    "    torch.argmax(yb, dim=1).to(torch.long)\n",
    ")"
   ]
  },
  {
   "attachments": {},
   "cell_type": "markdown",
   "metadata": {},
   "source": [
    "### Sanity check II: overfit a mini-batch "
   ]
  },
  {
   "cell_type": "code",
   "execution_count": 63,
   "metadata": {},
   "outputs": [
    {
     "name": "stdout",
     "output_type": "stream",
     "text": [
      "Random seed set as 42313988\n"
     ]
    },
    {
     "name": "stderr",
     "output_type": "stream",
     "text": [
      "Some weights of the model checkpoint at nvidia/mit-b0 were not used when initializing SegformerForSemanticSegmentation: ['classifier.bias', 'classifier.weight']\n",
      "- This IS expected if you are initializing SegformerForSemanticSegmentation from the checkpoint of a model trained on another task or with another architecture (e.g. initializing a BertForSequenceClassification model from a BertForPreTraining model).\n",
      "- This IS NOT expected if you are initializing SegformerForSemanticSegmentation from the checkpoint of a model that you expect to be exactly identical (initializing a BertForSequenceClassification model from a BertForSequenceClassification model).\n",
      "Some weights of SegformerForSemanticSegmentation were not initialized from the model checkpoint at nvidia/mit-b0 and are newly initialized: ['decode_head.classifier.weight', 'decode_head.linear_c.1.proj.weight', 'decode_head.linear_c.2.proj.weight', 'decode_head.linear_c.2.proj.bias', 'decode_head.linear_c.0.proj.weight', 'decode_head.classifier.bias', 'decode_head.linear_c.1.proj.bias', 'decode_head.batch_norm.num_batches_tracked', 'decode_head.batch_norm.running_var', 'decode_head.linear_c.3.proj.bias', 'decode_head.linear_fuse.weight', 'decode_head.linear_c.3.proj.weight', 'decode_head.batch_norm.running_mean', 'decode_head.batch_norm.bias', 'decode_head.linear_c.0.proj.bias', 'decode_head.batch_norm.weight']\n",
      "You should probably TRAIN this model on a down-stream task to be able to use it for predictions and inference.\n"
     ]
    }
   ],
   "source": [
    "set_seed()  # for reproducibility\n",
    "\n",
    "model = SegformerForSemanticSegmentation.from_pretrained(\n",
    "    \"nvidia/mit-b0\",\n",
    "    id2label=dataset._id2label,\n",
    "    label2id=dataset._label2id\n",
    ")\n",
    "\n",
    "model=model.to(device)\n",
    "\n",
    "lr = 1e-4 \n",
    "n_epochs = 1000\n",
    "loss_fn = nn.CrossEntropyLoss(ignore_index=3)\n",
    "optimizer = torch.optim.AdamW(model.parameters(), lr=lr)\n",
    "\n",
    "# move tensors into the current device\n",
    "xb=xb.to(device)\n",
    "yb=yb.to(device)"
   ]
  },
  {
   "attachments": {},
   "cell_type": "markdown",
   "metadata": {},
   "source": [
    "Predicciones de máscaras con capacidad inicial del modelo."
   ]
  },
  {
   "cell_type": "code",
   "execution_count": 306,
   "metadata": {},
   "outputs": [
    {
     "data": {
      "image/png": "[encoded data removed]",
      "text/plain": [
       "<Figure size 432x288 with 1 Axes>"
      ]
     },
     "metadata": {
      "needs_background": "light"
     },
     "output_type": "display_data"
    }
   ],
   "source": [
    "model.eval()\n",
    "\n",
    "grid=torchvision.utils.make_grid(\n",
    "    torch.argmax(torch.softmax(upscale_logits(model(xb)[\"logits\"]), dim=1), dim=1).unsqueeze(1).detach().cpu(),\n",
    "    nrow=2,\n",
    "    pad_value=8)\n",
    "\n",
    "plt.imshow(np.uint8(grid.permute(1,2,0).numpy()) * 255);\n",
    "plt.axis(\"off\");\n",
    "plt.title(f\"Mask predictions without fine-tuning the model\");"
   ]
  },
  {
   "attachments": {},
   "cell_type": "markdown",
   "metadata": {},
   "source": [
    "Memorizar las máscaras del _mini-batch_."
   ]
  },
  {
   "cell_type": "code",
   "execution_count": 64,
   "metadata": {},
   "outputs": [
    {
     "name": "stdout",
     "output_type": "stream",
     "text": [
      "Random seed set as 42313988\n"
     ]
    },
    {
     "name": "stderr",
     "output_type": "stream",
     "text": [
      "  0%|          | 1/1000 [00:03<1:03:40,  3.82s/it]"
     ]
    },
    {
     "name": "stdout",
     "output_type": "stream",
     "text": [
      " -- Loss at epoch 0: 1.4106\n"
     ]
    },
    {
     "name": "stderr",
     "output_type": "stream",
     "text": [
      " 10%|█         | 101/1000 [00:57<08:10,  1.83it/s]"
     ]
    },
    {
     "name": "stdout",
     "output_type": "stream",
     "text": [
      " -- Loss at epoch 100: 0.0434\n"
     ]
    },
    {
     "name": "stderr",
     "output_type": "stream",
     "text": [
      " 20%|██        | 201/1000 [01:52<07:16,  1.83it/s]"
     ]
    },
    {
     "name": "stdout",
     "output_type": "stream",
     "text": [
      " -- Loss at epoch 200: 0.0231\n"
     ]
    },
    {
     "name": "stderr",
     "output_type": "stream",
     "text": [
      " 30%|███       | 301/1000 [02:47<06:21,  1.83it/s]"
     ]
    },
    {
     "name": "stdout",
     "output_type": "stream",
     "text": [
      " -- Loss at epoch 300: 0.0188\n"
     ]
    },
    {
     "name": "stderr",
     "output_type": "stream",
     "text": [
      " 40%|████      | 401/1000 [03:41<05:26,  1.83it/s]"
     ]
    },
    {
     "name": "stdout",
     "output_type": "stream",
     "text": [
      " -- Loss at epoch 400: 0.0162\n"
     ]
    },
    {
     "name": "stderr",
     "output_type": "stream",
     "text": [
      " 50%|█████     | 501/1000 [04:35<04:31,  1.84it/s]"
     ]
    },
    {
     "name": "stdout",
     "output_type": "stream",
     "text": [
      " -- Loss at epoch 500: 0.0129\n"
     ]
    },
    {
     "name": "stderr",
     "output_type": "stream",
     "text": [
      " 60%|██████    | 601/1000 [05:30<03:36,  1.84it/s]"
     ]
    },
    {
     "name": "stdout",
     "output_type": "stream",
     "text": [
      " -- Loss at epoch 600: 0.0103\n"
     ]
    },
    {
     "name": "stderr",
     "output_type": "stream",
     "text": [
      " 70%|███████   | 701/1000 [06:24<02:42,  1.84it/s]"
     ]
    },
    {
     "name": "stdout",
     "output_type": "stream",
     "text": [
      " -- Loss at epoch 700: 0.0297\n"
     ]
    },
    {
     "name": "stderr",
     "output_type": "stream",
     "text": [
      " 80%|████████  | 801/1000 [07:18<01:47,  1.85it/s]"
     ]
    },
    {
     "name": "stdout",
     "output_type": "stream",
     "text": [
      " -- Loss at epoch 800: 0.0098\n"
     ]
    },
    {
     "name": "stderr",
     "output_type": "stream",
     "text": [
      " 90%|█████████ | 901/1000 [08:12<00:53,  1.84it/s]"
     ]
    },
    {
     "name": "stdout",
     "output_type": "stream",
     "text": [
      " -- Loss at epoch 900: 0.0083\n"
     ]
    },
    {
     "name": "stderr",
     "output_type": "stream",
     "text": [
      "100%|██████████| 1000/1000 [09:06<00:00,  1.83it/s]"
     ]
    },
    {
     "name": "stdout",
     "output_type": "stream",
     "text": [
      "--- 546.7996780872345 seconds ---\n"
     ]
    },
    {
     "name": "stderr",
     "output_type": "stream",
     "text": [
      "\n"
     ]
    }
   ],
   "source": [
    "# compute running time\n",
    "start_time = time.time()\n",
    "\n",
    "set_seed()  # for reproducibility\n",
    "\n",
    "# the target will be constant (just one batch)\n",
    "#target=flatten_logits(torch.where(yb > 0.0, 1.0, 0.0))\n",
    "lossi=np.zeros(n_epochs)\n",
    "\n",
    "for idx in tqdm(range(n_epochs)):\n",
    "\n",
    "  # Perform a forward pass\n",
    "  logits = model(xb)[\"logits\"]\n",
    "\n",
    "  # Clean the gradients  \n",
    "  optimizer.zero_grad()\n",
    "\n",
    "  # Compute the loss with class probabilities (slower way)\n",
    "  #loss = loss_fn(upscale_logits(logits), yb)\n",
    "\n",
    "  # compute the loss with class indices (faster way)\n",
    "  loss = loss_fn(upscale_logits(logits),\n",
    "                 torch.argmax(yb, dim=1).to(torch.long))\n",
    "\n",
    "  # store the current loss value\n",
    "  cur_loss = loss.item()\n",
    "  lossi[idx] = cur_loss\n",
    "\n",
    "  # Backward prop\n",
    "  loss.backward()\n",
    "\n",
    "  # Update the parameters\n",
    "  optimizer.step()\n",
    "\n",
    "  if idx%100== 0:\n",
    "    print(f\" -- Loss at epoch {idx}: {cur_loss:.4f}\")\n",
    "\n",
    "# compute running time\n",
    "end_time = time.time()\n",
    "print(f\"--- {end_time - start_time} seconds ---\")"
   ]
  },
  {
   "attachments": {},
   "cell_type": "markdown",
   "metadata": {},
   "source": [
    "Inspeccionemos la curva de pérdida..."
   ]
  },
  {
   "cell_type": "code",
   "execution_count": 65,
   "metadata": {},
   "outputs": [
    {
     "data": {
      "image/png": "[encoded data removed]",
      "text/plain": [
       "<Figure size 1080x331.2 with 1 Axes>"
      ]
     },
     "metadata": {
      "needs_background": "light"
     },
     "output_type": "display_data"
    }
   ],
   "source": [
    "plt.figure(figsize=(15, 4.6));\n",
    "plt.plot(lossi, color=\"darkcyan\");\n",
    "plt.xlabel(\"# epochs\");\n",
    "plt.ylabel(\"Loss\");"
   ]
  },
  {
   "attachments": {},
   "cell_type": "markdown",
   "metadata": {},
   "source": [
    "Ahora veamos las máscaras luego de memorizarlas."
   ]
  },
  {
   "cell_type": "code",
   "execution_count": 66,
   "metadata": {},
   "outputs": [
    {
     "data": {
      "image/png": "[encoded data removed]",
      "text/plain": [
       "<Figure size 432x288 with 1 Axes>"
      ]
     },
     "metadata": {
      "needs_background": "light"
     },
     "output_type": "display_data"
    }
   ],
   "source": [
    "#@title\n",
    "out=torch.argmax(torch.softmax(upscale_logits(model(xb)[\"logits\"]), dim=1), dim=1).unsqueeze(1).detach().cpu()\n",
    "\n",
    "grid=torchvision.utils.make_grid(\n",
    "    out,\n",
    "    nrow=2,\n",
    "    pad_value=8)\n",
    "\n",
    "plt.imshow(np.uint8(grid.permute(1,2,0).numpy()) * 255, cmap='Greys');\n",
    "plt.axis(\"off\");\n",
    "plt.title(f\"After {n_epochs} update steps\");"
   ]
  },
  {
   "attachments": {},
   "cell_type": "markdown",
   "metadata": {},
   "source": [
    "Comparemos con las autenticas máscaras..."
   ]
  },
  {
   "cell_type": "code",
   "execution_count": 67,
   "metadata": {},
   "outputs": [
    {
     "data": {
      "image/png": "[encoded data removed]",
      "text/plain": [
       "<Figure size 432x288 with 1 Axes>"
      ]
     },
     "metadata": {
      "needs_background": "light"
     },
     "output_type": "display_data"
    }
   ],
   "source": [
    "grid=torchvision.utils.make_grid(\n",
    "    #yb.unsqueeze(1).detach(),\n",
    "    yb.max(dim=1)[0].unsqueeze(1).detach().cpu(),\n",
    "    nrow=2,\n",
    "    padding=8,\n",
    "    pad_value=8\n",
    "    )\n",
    "\n",
    "plt.imshow(np.uint8(grid.permute(1,2,0).cpu().numpy()) * 255)\n",
    "plt.axis(\"off\");\n",
    "plt.title(\"Original masks\");"
   ]
  },
  {
   "attachments": {},
   "cell_type": "markdown",
   "metadata": {},
   "source": [
    "No es perfecto, pero la red no solo propaga la información sino que es\n",
    "capaz de memorizar algunos máscaras. Antes de probar con más iteraciones o\n",
    "una mayor tasa de aprendizaje, hay que ver como visualizar las distintas clases.\n",
    "\n",
    "Lo de arriba es una imagen 1/0 o detección/no-detección. Sin embargo, dentro\n",
    "de detección tenemos más categorias como `normal`, `normal_cut`, y `noise`."
   ]
  },
  {
   "cell_type": "code",
   "execution_count": 68,
   "metadata": {},
   "outputs": [
    {
     "data": {
      "image/png": "[encoded data removed]",
      "text/plain": [
       "<Figure size 432x288 with 1 Axes>"
      ]
     },
     "metadata": {
      "needs_background": "light"
     },
     "output_type": "display_data"
    }
   ],
   "source": [
    "grid = torchvision.utils.make_grid(out.detach().cpu(), nrow=2, padding=8, pad_value=4)\n",
    "\n",
    "#plt.imshow(np.uint8(grid.permute(1,2,0).numpy() * 120), cmap='viridis');\n",
    "plt.imshow(np.uint8(grid.permute(1,2,0).numpy() * 150))\n",
    "plt.axis('off');\n",
    "plt.title('Predicted masks by class');"
   ]
  },
  {
   "cell_type": "code",
   "execution_count": 69,
   "metadata": {},
   "outputs": [
    {
     "data": {
      "image/png": "[encoded data removed]",
      "text/plain": [
       "<Figure size 432x288 with 1 Axes>"
      ]
     },
     "metadata": {
      "needs_background": "light"
     },
     "output_type": "display_data"
    }
   ],
   "source": [
    "# TODO: cada clase mapearla a un color RGB a partir de un entero de clase a\n",
    "# una tupla RGB proveniente de una paleta como cividis\n",
    "viridis = cm.get_cmap('cividis', torch.max(out.detach().cpu()).item()+1)\n",
    "grid = torchvision.utils.make_grid(out.detach().cpu(), nrow=2, padding=2, \n",
    "                                   pad_value=torch.max(out.detach().cpu()).item()+1)\n",
    "#post_grid = (grid.permute(1,2,0).numpy() * 255).astype('float')\n",
    "post_grid = (grid.permute(1,2,0).numpy() * 255).astype('float')\n",
    "# por cada clase remplazar entero a RGB, viridis(integer) -> (R,G,B)\n",
    "for v in np.unique(post_grid):\n",
    "    for i in range(post_grid.shape[2]):\n",
    "        #print(f\"viridis({v})[{i}]: {viridis(v)[i]}\")\n",
    "        post_grid[:,:,i] = np.ma.array(post_grid[:,:], \n",
    "                                       mask=np.where(post_grid[:,:] == v, 1, 0)).filled(\n",
    "                                                viridis(v)[i])[:,:,i]\n",
    "plt.imshow(post_grid);\n",
    "plt.axis('off');"
   ]
  },
  {
   "cell_type": "code",
   "execution_count": 70,
   "metadata": {},
   "outputs": [
    {
     "data": {
      "image/png": "[encoded data removed]",
      "text/html": [
       "<div style=\"vertical-align: middle;\"><strong>cividis</strong> </div><div class=\"cmap\"><img alt=\"cividis colormap\" title=\"cividis\" style=\"border: 1px solid #555;\" src=\"data:image/png;base64,iVBORw0KGgoAAAANSUhEUgAAAgAAAABACAYAAABsv8+/AAAAFnRFWHRUaXRsZQBjaXZpZGlzIGNvbG9ybWFwKZ9KmAAAABx0RVh0RGVzY3JpcHRpb24AY2l2aWRpcyBjb2xvcm1hcI6x++EAAAAwdEVYdEF1dGhvcgBNYXRwbG90bGliIHYzLjUuMiwgaHR0cHM6Ly9tYXRwbG90bGliLm9yZ8JaeJwAAAAydEVYdFNvZnR3YXJlAE1hdHBsb3RsaWIgdjMuNS4yLCBodHRwczovL21hdHBsb3RsaWIub3Jn7PznuwAAAUJJREFUeJzt1jERwgAQAMGQAh0ZbGQGBZA2CMYXuMgXt6vgyrstj/dvIevct+kEBh3P+3QCgz6v73QCg9bpAADgegYAAIIMAAAEGQAACDIAABBkAAAgyAAAQJABAIAgAwAAQQYAAIIMAAAEGQAACDIAABBkAAAgyAAAQJABAIAgAwAAQQYAAIIMAAAEGQAACDIAABBkAAAgyAAAQJABAIAgAwAAQQYAAIIMAAAEGQAACDIAABBkAAAgyAAAQJABAIAgAwAAQQYAAIIMAAAEGQAACDIAABBkAAAgyAAAQJABAIAgAwAAQQYAAIIMAAAEGQAACDIAABBkAAAgyAAAQJABAIAgAwAAQQYAAIIMAAAEGQAACDIAABBkAAAgyAAAQJABAIAgAwAAQQYAAIIMAAAEGQAACDIAABBkAAAgyAAAQNAfclkEmmAgBZEAAAAASUVORK5CYII=\"></div><div style=\"vertical-align: middle; max-width: 514px; display: flex; justify-content: space-between;\"><div style=\"float: left;\"><div title=\"#00224eff\" style=\"display: inline-block; width: 1em; height: 1em; margin: 0; vertical-align: middle; border: 1px solid #555; background-color: #00224eff;\"></div> under</div><div style=\"margin: 0 auto; display: inline-block;\">bad <div title=\"#00000000\" style=\"display: inline-block; width: 1em; height: 1em; margin: 0; vertical-align: middle; border: 1px solid #555; background-color: #00000000;\"></div></div><div style=\"float: right;\">over <div title=\"#fee838ff\" style=\"display: inline-block; width: 1em; height: 1em; margin: 0; vertical-align: middle; border: 1px solid #555; background-color: #fee838ff;\"></div></div>"
      ],
      "text/plain": [
       "<matplotlib.colors.ListedColormap at 0x7ff2ec3ccf40>"
      ]
     },
     "execution_count": 70,
     "metadata": {},
     "output_type": "execute_result"
    }
   ],
   "source": [
    "cm.get_cmap('cividis', grid.max()+1)"
   ]
  },
  {
   "attachments": {},
   "cell_type": "markdown",
   "metadata": {},
   "source": [
    "### Sanity Check III: compute Intersection Over Union (mIoU) metric"
   ]
  },
  {
   "attachments": {},
   "cell_type": "markdown",
   "metadata": {},
   "source": [
    "La intersección sobre la unión de dos conjuntos A y B es una métrica que va de $0\\leq J(A, B) \\leq 1$.\n",
    "\n",
    "Esta métrica de similitud entre dos conjuntos, `preds` y `targets` en  este caso particular, se conoce también como [_Jaccard index_](https://en.wikipedia.org/wiki/Jaccard_index).\n"
   ]
  },
  {
   "cell_type": "code",
   "execution_count": 71,
   "metadata": {},
   "outputs": [],
   "source": [
    "model.eval()\n",
    "logits = model(xb)[\"logits\"]\n",
    "target = yb"
   ]
  },
  {
   "cell_type": "code",
   "execution_count": 72,
   "metadata": {},
   "outputs": [
    {
     "data": {
      "text/plain": [
       "(torch.Size([2, 4, 128, 128]), torch.Size([2, 4, 512, 512]))"
      ]
     },
     "execution_count": 72,
     "metadata": {},
     "output_type": "execute_result"
    }
   ],
   "source": [
    "logits.shape, target.shape"
   ]
  },
  {
   "cell_type": "code",
   "execution_count": 73,
   "metadata": {},
   "outputs": [],
   "source": [
    "preds = upscale_logits(logits.detach().cpu())\n",
    "target_c = torch.argmax(target.detach().cpu(), dim=1)\n",
    "# normalize the logits and get probabilities\n",
    "preds = torch.argmax(torch.softmax(preds, dim=1), dim=1)"
   ]
  },
  {
   "cell_type": "code",
   "execution_count": 74,
   "metadata": {},
   "outputs": [
    {
     "data": {
      "text/plain": [
       "(torch.Size([2, 512, 512]), torch.Size([2, 512, 512]))"
      ]
     },
     "execution_count": 74,
     "metadata": {},
     "output_type": "execute_result"
    }
   ],
   "source": [
    "preds.shape, target_c.shape"
   ]
  },
  {
   "cell_type": "code",
   "execution_count": 75,
   "metadata": {},
   "outputs": [
    {
     "data": {
      "text/plain": [
       "0.930385410785675"
      ]
     },
     "execution_count": 75,
     "metadata": {},
     "output_type": "execute_result"
    }
   ],
   "source": [
    "eps=1e-6\n",
    "intersection = torch.logical_and(preds, target_c)\n",
    "union = torch.logical_or(preds, target_c)\n",
    "iou = (torch.div(torch.sum(intersection, dim=(1,2)) + eps, (torch.sum(union, dim=(1,2)) + eps)).sum() / logits.shape[0]).item()\n",
    "iou"
   ]
  },
  {
   "attachments": {},
   "cell_type": "markdown",
   "metadata": {},
   "source": [
    "Ahora creamos una función que reciba los logits extraídos del modelo\n",
    "y los targets de cada _batch_."
   ]
  },
  {
   "cell_type": "code",
   "execution_count": 76,
   "metadata": {},
   "outputs": [],
   "source": [
    "def compute_intersection_over_union(logits, targets, eps=1e-6):\n",
    "    \"\"\" \n",
    "    Compute the intersection over union between the logits and the targets\n",
    "\n",
    "    B: batch size\n",
    "    C: number of classes\n",
    "    H: height of the image\n",
    "    W: width of the image\n",
    "\n",
    "    Args:\n",
    "        logits: torch.tensor with shape (B, C, H, W) containing the logits \n",
    "            return by the model\n",
    "        targets: torch.tensor with shape (B, C, H, W) containing the targets\n",
    "            return by the DataLoader format\n",
    "\n",
    "    Returns: a float with the ratio of intersection over union\n",
    "    \"\"\"\n",
    "    # eliminar grafo de gradiente y pasar a cpu\n",
    "    preds = upscale_logits(logits.detach().cpu())\n",
    "    targets = targets.detach().cpu()\n",
    "\n",
    "    # normalizar logits y obtener probabilidades\n",
    "    preds = torch.argmax(torch.softmax(preds, dim=1), dim=1)\n",
    "\n",
    "    # colapsar los canales del target en uno solo, de multiples one-hot channels\n",
    "    # a un solo canal con valores enteros\n",
    "    targets = torch.argmax(targets, dim=1)\n",
    "\n",
    "    # computar intersección y unión entre conjuntos de prediccion y targets\n",
    "    intersection = torch.logical_and(preds, targets)\n",
    "    union = torch.logical_or(preds, targets)\n",
    "\n",
    "    # computar ratio de intersección sobre la unión \n",
    "    iou = (torch.div(torch.sum(intersection, dim=(1,2)) + eps, \n",
    "                     (torch.sum(union, dim=(1,2)) + eps)).sum() / logits.shape[0]).item()\n",
    "\n",
    "    return iou"
   ]
  },
  {
   "cell_type": "code",
   "execution_count": 77,
   "metadata": {},
   "outputs": [
    {
     "data": {
      "text/plain": [
       "0.930385410785675"
      ]
     },
     "execution_count": 77,
     "metadata": {},
     "output_type": "execute_result"
    }
   ],
   "source": [
    "compute_intersection_over_union(logits, target)"
   ]
  },
  {
   "attachments": {},
   "cell_type": "markdown",
   "metadata": {},
   "source": [
    "## Training the model"
   ]
  },
  {
   "attachments": {},
   "cell_type": "markdown",
   "metadata": {},
   "source": [
    "Configuración y dínamica básica de entrenamiento del modelo."
   ]
  },
  {
   "attachments": {},
   "cell_type": "markdown",
   "metadata": {},
   "source": [
    "\n",
    "**TODO:** \n",
    "\n",
    "* during training all predictions with $\\text{IoU} > \\tau$ with a ground truth, are matched to the ground truth (check slide 86 [here](https://drive.google.com/file/d/1tL4N6Xg4h4IjGR8UCfvUWFZ8OUHIwlOO/view))\n",
    "* Freeze the backbone like ~3-5 epochs to warm the classification head, then unfreeze and train with a lower learning rate than the classification head"
   ]
  },
  {
   "cell_type": "code",
   "execution_count": 101,
   "metadata": {},
   "outputs": [
    {
     "name": "stdout",
     "output_type": "stream",
     "text": [
      "Random seed set as 42313988\n"
     ]
    },
    {
     "name": "stderr",
     "output_type": "stream",
     "text": [
      "Some weights of the model checkpoint at nvidia/mit-b0 were not used when initializing SegformerForSemanticSegmentation: ['classifier.weight', 'classifier.bias']\n",
      "- This IS expected if you are initializing SegformerForSemanticSegmentation from the checkpoint of a model trained on another task or with another architecture (e.g. initializing a BertForSequenceClassification model from a BertForPreTraining model).\n",
      "- This IS NOT expected if you are initializing SegformerForSemanticSegmentation from the checkpoint of a model that you expect to be exactly identical (initializing a BertForSequenceClassification model from a BertForSequenceClassification model).\n",
      "Some weights of SegformerForSemanticSegmentation were not initialized from the model checkpoint at nvidia/mit-b0 and are newly initialized: ['decode_head.linear_c.0.proj.weight', 'decode_head.batch_norm.running_mean', 'decode_head.linear_fuse.weight', 'decode_head.batch_norm.bias', 'decode_head.linear_c.2.proj.bias', 'decode_head.batch_norm.weight', 'decode_head.batch_norm.running_var', 'decode_head.classifier.weight', 'decode_head.linear_c.1.proj.weight', 'decode_head.classifier.bias', 'decode_head.batch_norm.num_batches_tracked', 'decode_head.linear_c.0.proj.bias', 'decode_head.linear_c.2.proj.weight', 'decode_head.linear_c.1.proj.bias', 'decode_head.linear_c.3.proj.weight', 'decode_head.linear_c.3.proj.bias']\n",
      "You should probably TRAIN this model on a down-stream task to be able to use it for predictions and inference.\n"
     ]
    }
   ],
   "source": [
    "#from evaluation import compute_intersection_over_union\n",
    "from utils import flatten_logits, upscale_logits\n",
    "from contextlib import nullcontext\n",
    "from torch.cuda.amp import GradScaler, autocast\n",
    "\n",
    "set_seed()  # for reproducibility\n",
    "\n",
    "model = SegformerForSemanticSegmentation.from_pretrained(\n",
    "    \"nvidia/mit-b0\",\n",
    "    id2label=dataset._id2label,\n",
    "    label2id=dataset._label2id\n",
    ")\n",
    "\n",
    "model=model.to(device)\n",
    "\n",
    "n_epochs = 100\n",
    "lr = 0.03\n",
    "beta1 = 0.9\n",
    "beta2 = 0.95 \n",
    "bs=2\n",
    "gradient_accumulation_steps = bs * 4 # bs * 1 = normal, bs * 16 = emulate batch size of 32\n",
    "dtype = 'float16' # 'float32' or 'float16'\n",
    "weight_decay = 1e-1\n",
    "grad_clip = 1.0\n",
    "scheduler__gamma=0.9\n",
    "scheduler__step_size=5\n",
    "\n",
    "torch.backends.cuda.matmul.allow_tf32 = True    # allow tf32 on matmul\n",
    "torch.backends.cudnn.allow_tf32 = True      # allow tf32 on cudnn\n",
    "ptdtype={'float32': torch.float32, 'float16': torch.float16, 'bfloat16': torch.bfloat16}[dtype]\n",
    "ctx = nullcontext() if device=='cpu' else torch.amp.autocast(device_type=device, dtype=ptdtype)\n",
    "#loss_fn = nn.CrossEntropyLoss(\n",
    "#                              #weight=weight_classes, \n",
    "#                              ignore_index=dataset._label2id['non-detection'])\n",
    "\n",
    "loss_fn = nn.CrossEntropyLoss()\n",
    "\n",
    "optimizer = torch.optim.AdamW(model.parameters(), lr=lr, betas=(beta1, beta2),\n",
    "                              weight_decay=weight_decay)\n",
    "\n",
    "scheduler = torch.optim.lr_scheduler.StepLR(optimizer, step_size=scheduler__step_size, \n",
    "                                            gamma=scheduler__gamma, verbose=False)\n",
    "scaler = GradScaler()\n",
    "\n",
    "train_dl = DataLoader(dataset, batch_size=bs, shuffle=True, num_workers=0,\n",
    "                        collate_fn=collate_fn)"
   ]
  },
  {
   "cell_type": "code",
   "execution_count": 102,
   "metadata": {},
   "outputs": [
    {
     "name": "stdout",
     "output_type": "stream",
     "text": [
      "Random seed set as 42313988\n"
     ]
    },
    {
     "name": "stderr",
     "output_type": "stream",
     "text": [
      "  1%|▍                                        | 1/100 [00:38<1:03:29, 38.48s/it]"
     ]
    },
    {
     "name": "stdout",
     "output_type": "stream",
     "text": [
      " -- Loss at epoch 0: 0.9174\n",
      " -- mIoU at epoch 0: 0.0475\n"
     ]
    },
    {
     "name": "stderr",
     "output_type": "stream",
     "text": [
      "  2%|▊                                        | 2/100 [01:18<1:03:58, 39.17s/it]"
     ]
    },
    {
     "name": "stdout",
     "output_type": "stream",
     "text": [
      " -- Loss at epoch 1: 0.8614\n",
      " -- mIoU at epoch 1: 0.0134\n"
     ]
    },
    {
     "name": "stderr",
     "output_type": "stream",
     "text": [
      "  3%|█▏                                       | 3/100 [01:55<1:01:50, 38.25s/it]"
     ]
    },
    {
     "name": "stdout",
     "output_type": "stream",
     "text": [
      " -- Loss at epoch 2: 25.4456\n",
      " -- mIoU at epoch 2: 0.0253\n"
     ]
    },
    {
     "name": "stderr",
     "output_type": "stream",
     "text": [
      "  4%|█▋                                       | 4/100 [02:32<1:00:35, 37.87s/it]"
     ]
    },
    {
     "name": "stdout",
     "output_type": "stream",
     "text": [
      " -- Loss at epoch 3: 30.8028\n",
      " -- mIoU at epoch 3: 0.0084\n"
     ]
    },
    {
     "name": "stderr",
     "output_type": "stream",
     "text": [
      "  5%|██▏                                        | 5/100 [03:09<59:25, 37.53s/it]"
     ]
    },
    {
     "name": "stdout",
     "output_type": "stream",
     "text": [
      " -- Loss at epoch 4: 5.9844\n",
      " -- mIoU at epoch 4: 0.0364\n"
     ]
    },
    {
     "name": "stderr",
     "output_type": "stream",
     "text": [
      "  6%|██▌                                        | 6/100 [03:45<58:05, 37.08s/it]"
     ]
    },
    {
     "name": "stdout",
     "output_type": "stream",
     "text": [
      " -- Loss at epoch 5: 0.0270\n",
      " -- mIoU at epoch 5: 0.0571\n"
     ]
    },
    {
     "name": "stderr",
     "output_type": "stream",
     "text": [
      "  7%|███                                        | 7/100 [04:21<56:55, 36.73s/it]"
     ]
    },
    {
     "name": "stdout",
     "output_type": "stream",
     "text": [
      " -- Loss at epoch 6: 0.0380\n",
      " -- mIoU at epoch 6: 0.0571\n"
     ]
    },
    {
     "name": "stderr",
     "output_type": "stream",
     "text": [
      "  8%|███▍                                       | 8/100 [04:58<56:06, 36.59s/it]"
     ]
    },
    {
     "name": "stdout",
     "output_type": "stream",
     "text": [
      " -- Loss at epoch 7: 0.0197\n",
      " -- mIoU at epoch 7: 0.0571\n"
     ]
    },
    {
     "name": "stderr",
     "output_type": "stream",
     "text": [
      "  9%|███▊                                       | 9/100 [05:34<55:19, 36.48s/it]"
     ]
    },
    {
     "name": "stdout",
     "output_type": "stream",
     "text": [
      " -- Loss at epoch 8: 0.0111\n",
      " -- mIoU at epoch 8: 0.0571\n"
     ]
    },
    {
     "name": "stderr",
     "output_type": "stream",
     "text": [
      " 10%|████▏                                     | 10/100 [06:11<55:01, 36.68s/it]"
     ]
    },
    {
     "name": "stdout",
     "output_type": "stream",
     "text": [
      " -- Loss at epoch 9: 0.0101\n",
      " -- mIoU at epoch 9: 0.0571\n"
     ]
    },
    {
     "name": "stderr",
     "output_type": "stream",
     "text": [
      " 11%|████▌                                     | 11/100 [06:47<54:21, 36.65s/it]"
     ]
    },
    {
     "name": "stdout",
     "output_type": "stream",
     "text": [
      " -- Loss at epoch 10: 0.0108\n",
      " -- mIoU at epoch 10: 0.0571\n"
     ]
    },
    {
     "name": "stderr",
     "output_type": "stream",
     "text": [
      " 12%|█████                                     | 12/100 [07:23<53:28, 36.46s/it]"
     ]
    },
    {
     "name": "stdout",
     "output_type": "stream",
     "text": [
      " -- Loss at epoch 11: 0.0174\n",
      " -- mIoU at epoch 11: 0.0571\n"
     ]
    },
    {
     "name": "stderr",
     "output_type": "stream",
     "text": [
      " 13%|█████▍                                    | 13/100 [08:00<52:53, 36.48s/it]"
     ]
    },
    {
     "name": "stdout",
     "output_type": "stream",
     "text": [
      " -- Loss at epoch 12: 0.0161\n",
      " -- mIoU at epoch 12: 0.0571\n"
     ]
    },
    {
     "name": "stderr",
     "output_type": "stream",
     "text": [
      " 14%|█████▉                                    | 14/100 [08:36<52:06, 36.35s/it]"
     ]
    },
    {
     "name": "stdout",
     "output_type": "stream",
     "text": [
      " -- Loss at epoch 13: 0.0167\n",
      " -- mIoU at epoch 13: 0.0571\n"
     ]
    },
    {
     "name": "stderr",
     "output_type": "stream",
     "text": [
      " 15%|██████▎                                   | 15/100 [09:13<51:36, 36.43s/it]"
     ]
    },
    {
     "name": "stdout",
     "output_type": "stream",
     "text": [
      " -- Loss at epoch 14: 0.0705\n",
      " -- mIoU at epoch 14: 0.0571\n"
     ]
    },
    {
     "name": "stderr",
     "output_type": "stream",
     "text": [
      " 16%|██████▋                                   | 16/100 [09:51<52:00, 37.15s/it]"
     ]
    },
    {
     "name": "stdout",
     "output_type": "stream",
     "text": [
      " -- Loss at epoch 15: 0.0183\n",
      " -- mIoU at epoch 15: 0.0571\n"
     ]
    },
    {
     "name": "stderr",
     "output_type": "stream",
     "text": [
      " 17%|███████▏                                  | 17/100 [10:29<51:31, 37.25s/it]"
     ]
    },
    {
     "name": "stdout",
     "output_type": "stream",
     "text": [
      " -- Loss at epoch 16: 0.0107\n",
      " -- mIoU at epoch 16: 0.0571\n"
     ]
    },
    {
     "name": "stderr",
     "output_type": "stream",
     "text": [
      " 18%|███████▌                                  | 18/100 [11:07<51:03, 37.36s/it]"
     ]
    },
    {
     "name": "stdout",
     "output_type": "stream",
     "text": [
      " -- Loss at epoch 17: 0.0148\n",
      " -- mIoU at epoch 17: 0.0629\n"
     ]
    },
    {
     "name": "stderr",
     "output_type": "stream",
     "text": [
      " 19%|███████▉                                  | 19/100 [11:45<50:51, 37.68s/it]"
     ]
    },
    {
     "name": "stdout",
     "output_type": "stream",
     "text": [
      " -- Loss at epoch 18: 0.0107\n",
      " -- mIoU at epoch 18: 0.0571\n"
     ]
    },
    {
     "name": "stderr",
     "output_type": "stream",
     "text": [
      " 20%|████████▍                                 | 20/100 [12:23<50:18, 37.73s/it]"
     ]
    },
    {
     "name": "stdout",
     "output_type": "stream",
     "text": [
      " -- Loss at epoch 19: 0.0112\n",
      " -- mIoU at epoch 19: 0.0714\n"
     ]
    },
    {
     "name": "stderr",
     "output_type": "stream",
     "text": [
      " 21%|████████▊                                 | 21/100 [13:02<50:05, 38.04s/it]"
     ]
    },
    {
     "name": "stdout",
     "output_type": "stream",
     "text": [
      " -- Loss at epoch 20: 0.0100\n",
      " -- mIoU at epoch 20: 0.0571\n"
     ]
    },
    {
     "name": "stderr",
     "output_type": "stream",
     "text": [
      " 22%|█████████▏                                | 22/100 [13:40<49:31, 38.09s/it]"
     ]
    },
    {
     "name": "stdout",
     "output_type": "stream",
     "text": [
      " -- Loss at epoch 21: 0.0100\n",
      " -- mIoU at epoch 21: 0.0571\n"
     ]
    },
    {
     "name": "stderr",
     "output_type": "stream",
     "text": [
      " 23%|█████████▋                                | 23/100 [14:19<49:27, 38.53s/it]"
     ]
    },
    {
     "name": "stdout",
     "output_type": "stream",
     "text": [
      " -- Loss at epoch 22: 0.0097\n",
      " -- mIoU at epoch 22: 0.0571\n"
     ]
    },
    {
     "name": "stderr",
     "output_type": "stream",
     "text": [
      " 24%|██████████                                | 24/100 [14:57<48:30, 38.29s/it]"
     ]
    },
    {
     "name": "stdout",
     "output_type": "stream",
     "text": [
      " -- Loss at epoch 23: 0.0100\n",
      " -- mIoU at epoch 23: 0.0571\n"
     ]
    },
    {
     "name": "stderr",
     "output_type": "stream",
     "text": [
      " 25%|██████████▌                               | 25/100 [15:34<47:12, 37.76s/it]"
     ]
    },
    {
     "name": "stdout",
     "output_type": "stream",
     "text": [
      " -- Loss at epoch 24: 0.0098\n",
      " -- mIoU at epoch 24: 0.0714\n"
     ]
    },
    {
     "name": "stderr",
     "output_type": "stream",
     "text": [
      " 26%|██████████▉                               | 26/100 [16:10<46:10, 37.44s/it]"
     ]
    },
    {
     "name": "stdout",
     "output_type": "stream",
     "text": [
      " -- Loss at epoch 25: 0.0117\n",
      " -- mIoU at epoch 25: 0.0571\n"
     ]
    },
    {
     "name": "stderr",
     "output_type": "stream",
     "text": [
      " 27%|███████████▎                              | 27/100 [16:47<45:06, 37.08s/it]"
     ]
    },
    {
     "name": "stdout",
     "output_type": "stream",
     "text": [
      " -- Loss at epoch 26: 0.0109\n",
      " -- mIoU at epoch 26: 0.0571\n"
     ]
    },
    {
     "name": "stderr",
     "output_type": "stream",
     "text": [
      " 28%|███████████▊                              | 28/100 [17:23<44:24, 37.00s/it]"
     ]
    },
    {
     "name": "stdout",
     "output_type": "stream",
     "text": [
      " -- Loss at epoch 27: 0.0098\n",
      " -- mIoU at epoch 27: 0.0571\n"
     ]
    },
    {
     "name": "stderr",
     "output_type": "stream",
     "text": [
      " 29%|████████████▏                             | 29/100 [18:01<43:48, 37.03s/it]"
     ]
    },
    {
     "name": "stdout",
     "output_type": "stream",
     "text": [
      " -- Loss at epoch 28: 0.0097\n",
      " -- mIoU at epoch 28: 0.0571\n"
     ]
    },
    {
     "name": "stderr",
     "output_type": "stream",
     "text": [
      " 30%|████████████▌                             | 30/100 [18:38<43:22, 37.18s/it]"
     ]
    },
    {
     "name": "stdout",
     "output_type": "stream",
     "text": [
      " -- Loss at epoch 29: 0.0103\n",
      " -- mIoU at epoch 29: 0.0571\n"
     ]
    },
    {
     "name": "stderr",
     "output_type": "stream",
     "text": [
      " 31%|█████████████                             | 31/100 [19:16<42:59, 37.38s/it]"
     ]
    },
    {
     "name": "stdout",
     "output_type": "stream",
     "text": [
      " -- Loss at epoch 30: 0.0097\n",
      " -- mIoU at epoch 30: 0.0571\n"
     ]
    },
    {
     "name": "stderr",
     "output_type": "stream",
     "text": [
      " 32%|█████████████▍                            | 32/100 [19:54<42:37, 37.61s/it]"
     ]
    },
    {
     "name": "stdout",
     "output_type": "stream",
     "text": [
      " -- Loss at epoch 31: 0.0098\n",
      " -- mIoU at epoch 31: 0.0571\n"
     ]
    },
    {
     "name": "stderr",
     "output_type": "stream",
     "text": [
      " 33%|█████████████▊                            | 33/100 [20:32<42:09, 37.75s/it]"
     ]
    },
    {
     "name": "stdout",
     "output_type": "stream",
     "text": [
      " -- Loss at epoch 32: 0.0097\n",
      " -- mIoU at epoch 32: 0.0571\n"
     ]
    },
    {
     "name": "stderr",
     "output_type": "stream",
     "text": [
      " 34%|██████████████▎                           | 34/100 [21:11<42:01, 38.20s/it]"
     ]
    },
    {
     "name": "stdout",
     "output_type": "stream",
     "text": [
      " -- Loss at epoch 33: 0.0097\n",
      " -- mIoU at epoch 33: 0.0571\n"
     ]
    },
    {
     "name": "stderr",
     "output_type": "stream",
     "text": [
      " 35%|██████████████▋                           | 35/100 [21:50<41:23, 38.21s/it]"
     ]
    },
    {
     "name": "stdout",
     "output_type": "stream",
     "text": [
      " -- Loss at epoch 34: 0.0096\n",
      " -- mIoU at epoch 34: 0.0571\n"
     ]
    },
    {
     "name": "stderr",
     "output_type": "stream",
     "text": [
      " 36%|███████████████                           | 36/100 [22:27<40:25, 37.90s/it]"
     ]
    },
    {
     "name": "stdout",
     "output_type": "stream",
     "text": [
      " -- Loss at epoch 35: 0.0097\n",
      " -- mIoU at epoch 35: 0.0571\n"
     ]
    },
    {
     "name": "stderr",
     "output_type": "stream",
     "text": [
      " 37%|███████████████▌                          | 37/100 [23:05<39:51, 37.96s/it]"
     ]
    },
    {
     "name": "stdout",
     "output_type": "stream",
     "text": [
      " -- Loss at epoch 36: 0.0097\n",
      " -- mIoU at epoch 36: 0.0571\n"
     ]
    },
    {
     "name": "stderr",
     "output_type": "stream",
     "text": [
      " 38%|███████████████▉                          | 38/100 [23:42<39:05, 37.83s/it]"
     ]
    },
    {
     "name": "stdout",
     "output_type": "stream",
     "text": [
      " -- Loss at epoch 37: 0.0098\n",
      " -- mIoU at epoch 37: 0.0571\n"
     ]
    },
    {
     "name": "stderr",
     "output_type": "stream",
     "text": [
      " 39%|████████████████▍                         | 39/100 [24:21<38:35, 37.95s/it]"
     ]
    },
    {
     "name": "stdout",
     "output_type": "stream",
     "text": [
      " -- Loss at epoch 38: 0.0095\n",
      " -- mIoU at epoch 38: 0.0571\n"
     ]
    },
    {
     "name": "stderr",
     "output_type": "stream",
     "text": [
      " 40%|████████████████▊                         | 40/100 [25:00<38:17, 38.30s/it]"
     ]
    },
    {
     "name": "stdout",
     "output_type": "stream",
     "text": [
      " -- Loss at epoch 39: 0.0097\n",
      " -- mIoU at epoch 39: 0.0571\n"
     ]
    },
    {
     "name": "stderr",
     "output_type": "stream",
     "text": [
      " 41%|█████████████████▏                        | 41/100 [25:40<38:11, 38.83s/it]"
     ]
    },
    {
     "name": "stdout",
     "output_type": "stream",
     "text": [
      " -- Loss at epoch 40: 0.0094\n",
      " -- mIoU at epoch 40: 0.0571\n"
     ]
    },
    {
     "name": "stderr",
     "output_type": "stream",
     "text": [
      " 42%|█████████████████▋                        | 42/100 [26:20<37:56, 39.24s/it]"
     ]
    },
    {
     "name": "stdout",
     "output_type": "stream",
     "text": [
      " -- Loss at epoch 41: 0.0094\n",
      " -- mIoU at epoch 41: 0.0571\n"
     ]
    },
    {
     "name": "stderr",
     "output_type": "stream",
     "text": [
      " 43%|██████████████████                        | 43/100 [26:59<37:08, 39.09s/it]"
     ]
    },
    {
     "name": "stdout",
     "output_type": "stream",
     "text": [
      " -- Loss at epoch 42: 0.0095\n",
      " -- mIoU at epoch 42: 0.0571\n"
     ]
    },
    {
     "name": "stderr",
     "output_type": "stream",
     "text": [
      " 44%|██████████████████▍                       | 44/100 [27:37<36:18, 38.90s/it]"
     ]
    },
    {
     "name": "stdout",
     "output_type": "stream",
     "text": [
      " -- Loss at epoch 43: 0.0095\n",
      " -- mIoU at epoch 43: 0.0571\n"
     ]
    },
    {
     "name": "stderr",
     "output_type": "stream",
     "text": [
      " 45%|██████████████████▉                       | 45/100 [28:16<35:32, 38.78s/it]"
     ]
    },
    {
     "name": "stdout",
     "output_type": "stream",
     "text": [
      " -- Loss at epoch 44: 0.0094\n",
      " -- mIoU at epoch 44: 0.0571\n"
     ]
    },
    {
     "name": "stderr",
     "output_type": "stream",
     "text": [
      " 46%|███████████████████▎                      | 46/100 [28:53<34:31, 38.36s/it]"
     ]
    },
    {
     "name": "stdout",
     "output_type": "stream",
     "text": [
      " -- Loss at epoch 45: 0.0097\n",
      " -- mIoU at epoch 45: 0.0571\n"
     ]
    },
    {
     "name": "stderr",
     "output_type": "stream",
     "text": [
      " 47%|███████████████████▋                      | 47/100 [29:33<34:11, 38.71s/it]"
     ]
    },
    {
     "name": "stdout",
     "output_type": "stream",
     "text": [
      " -- Loss at epoch 46: 0.0100\n",
      " -- mIoU at epoch 46: 0.0571\n"
     ]
    },
    {
     "name": "stderr",
     "output_type": "stream",
     "text": [
      " 48%|████████████████████▏                     | 48/100 [30:12<33:39, 38.83s/it]"
     ]
    },
    {
     "name": "stdout",
     "output_type": "stream",
     "text": [
      " -- Loss at epoch 47: 0.0095\n",
      " -- mIoU at epoch 47: 0.0571\n"
     ]
    },
    {
     "name": "stderr",
     "output_type": "stream",
     "text": [
      " 49%|████████████████████▌                     | 49/100 [30:51<33:00, 38.83s/it]"
     ]
    },
    {
     "name": "stdout",
     "output_type": "stream",
     "text": [
      " -- Loss at epoch 48: 0.0097\n",
      " -- mIoU at epoch 48: 0.0571\n"
     ]
    },
    {
     "name": "stderr",
     "output_type": "stream",
     "text": [
      " 50%|█████████████████████                     | 50/100 [31:30<32:25, 38.91s/it]"
     ]
    },
    {
     "name": "stdout",
     "output_type": "stream",
     "text": [
      " -- Loss at epoch 49: 0.0094\n",
      " -- mIoU at epoch 49: 0.0571\n"
     ]
    },
    {
     "name": "stderr",
     "output_type": "stream",
     "text": [
      " 51%|█████████████████████▍                    | 51/100 [32:09<31:49, 38.97s/it]"
     ]
    },
    {
     "name": "stdout",
     "output_type": "stream",
     "text": [
      " -- Loss at epoch 50: 0.0096\n",
      " -- mIoU at epoch 50: 0.0571\n"
     ]
    },
    {
     "name": "stderr",
     "output_type": "stream",
     "text": [
      " 52%|█████████████████████▊                    | 52/100 [32:46<30:47, 38.49s/it]"
     ]
    },
    {
     "name": "stdout",
     "output_type": "stream",
     "text": [
      " -- Loss at epoch 51: 0.0094\n",
      " -- mIoU at epoch 51: 0.0571\n"
     ]
    },
    {
     "name": "stderr",
     "output_type": "stream",
     "text": [
      " 53%|██████████████████████▎                   | 53/100 [33:24<29:57, 38.24s/it]"
     ]
    },
    {
     "name": "stdout",
     "output_type": "stream",
     "text": [
      " -- Loss at epoch 52: 0.0094\n",
      " -- mIoU at epoch 52: 0.0571\n"
     ]
    },
    {
     "name": "stderr",
     "output_type": "stream",
     "text": [
      " 54%|██████████████████████▋                   | 54/100 [34:01<29:09, 38.03s/it]"
     ]
    },
    {
     "name": "stdout",
     "output_type": "stream",
     "text": [
      " -- Loss at epoch 53: 0.0095\n",
      " -- mIoU at epoch 53: 0.0571\n"
     ]
    },
    {
     "name": "stderr",
     "output_type": "stream",
     "text": [
      " 55%|███████████████████████                   | 55/100 [34:38<28:15, 37.69s/it]"
     ]
    },
    {
     "name": "stdout",
     "output_type": "stream",
     "text": [
      " -- Loss at epoch 54: 0.0097\n",
      " -- mIoU at epoch 54: 0.0571\n"
     ]
    },
    {
     "name": "stderr",
     "output_type": "stream",
     "text": [
      " 56%|███████████████████████▌                  | 56/100 [35:16<27:36, 37.64s/it]"
     ]
    },
    {
     "name": "stdout",
     "output_type": "stream",
     "text": [
      " -- Loss at epoch 55: 0.0095\n",
      " -- mIoU at epoch 55: 0.0571\n"
     ]
    },
    {
     "name": "stderr",
     "output_type": "stream",
     "text": [
      " 57%|███████████████████████▉                  | 57/100 [35:53<26:58, 37.64s/it]"
     ]
    },
    {
     "name": "stdout",
     "output_type": "stream",
     "text": [
      " -- Loss at epoch 56: 0.0095\n",
      " -- mIoU at epoch 56: 0.0571\n"
     ]
    },
    {
     "name": "stderr",
     "output_type": "stream",
     "text": [
      " 58%|████████████████████████▎                 | 58/100 [36:32<26:29, 37.84s/it]"
     ]
    },
    {
     "name": "stdout",
     "output_type": "stream",
     "text": [
      " -- Loss at epoch 57: 0.0097\n",
      " -- mIoU at epoch 57: 0.0571\n"
     ]
    },
    {
     "name": "stderr",
     "output_type": "stream",
     "text": [
      " 59%|████████████████████████▊                 | 59/100 [37:11<26:05, 38.19s/it]"
     ]
    },
    {
     "name": "stdout",
     "output_type": "stream",
     "text": [
      " -- Loss at epoch 58: 0.0094\n",
      " -- mIoU at epoch 58: 0.0571\n"
     ]
    },
    {
     "name": "stderr",
     "output_type": "stream",
     "text": [
      " 60%|█████████████████████████▏                | 60/100 [37:49<25:34, 38.37s/it]"
     ]
    },
    {
     "name": "stdout",
     "output_type": "stream",
     "text": [
      " -- Loss at epoch 59: 0.0095\n",
      " -- mIoU at epoch 59: 0.0571\n"
     ]
    },
    {
     "name": "stderr",
     "output_type": "stream",
     "text": [
      " 61%|█████████████████████████▌                | 61/100 [38:28<24:53, 38.30s/it]"
     ]
    },
    {
     "name": "stdout",
     "output_type": "stream",
     "text": [
      " -- Loss at epoch 60: 0.0094\n",
      " -- mIoU at epoch 60: 0.0571\n"
     ]
    },
    {
     "name": "stderr",
     "output_type": "stream",
     "text": [
      " 62%|██████████████████████████                | 62/100 [39:08<24:33, 38.78s/it]"
     ]
    },
    {
     "name": "stdout",
     "output_type": "stream",
     "text": [
      " -- Loss at epoch 61: 0.0094\n",
      " -- mIoU at epoch 61: 0.0571\n"
     ]
    },
    {
     "name": "stderr",
     "output_type": "stream",
     "text": [
      " 63%|██████████████████████████▍               | 63/100 [39:49<24:25, 39.61s/it]"
     ]
    },
    {
     "name": "stdout",
     "output_type": "stream",
     "text": [
      " -- Loss at epoch 62: 0.0095\n",
      " -- mIoU at epoch 62: 0.0571\n"
     ]
    },
    {
     "name": "stderr",
     "output_type": "stream",
     "text": [
      " 64%|██████████████████████████▉               | 64/100 [40:27<23:31, 39.22s/it]"
     ]
    },
    {
     "name": "stdout",
     "output_type": "stream",
     "text": [
      " -- Loss at epoch 63: 0.0094\n",
      " -- mIoU at epoch 63: 0.0571\n"
     ]
    },
    {
     "name": "stderr",
     "output_type": "stream",
     "text": [
      " 65%|███████████████████████████▎              | 65/100 [41:07<22:56, 39.34s/it]"
     ]
    },
    {
     "name": "stdout",
     "output_type": "stream",
     "text": [
      " -- Loss at epoch 64: 0.0094\n",
      " -- mIoU at epoch 64: 0.0571\n"
     ]
    },
    {
     "name": "stderr",
     "output_type": "stream",
     "text": [
      " 66%|███████████████████████████▋              | 66/100 [41:45<22:01, 38.88s/it]"
     ]
    },
    {
     "name": "stdout",
     "output_type": "stream",
     "text": [
      " -- Loss at epoch 65: 0.0096\n",
      " -- mIoU at epoch 65: 0.0571\n"
     ]
    },
    {
     "name": "stderr",
     "output_type": "stream",
     "text": [
      " 67%|████████████████████████████▏             | 67/100 [42:23<21:20, 38.80s/it]"
     ]
    },
    {
     "name": "stdout",
     "output_type": "stream",
     "text": [
      " -- Loss at epoch 66: 0.0095\n",
      " -- mIoU at epoch 66: 0.0571\n"
     ]
    },
    {
     "name": "stderr",
     "output_type": "stream",
     "text": [
      " 68%|████████████████████████████▌             | 68/100 [43:02<20:37, 38.66s/it]"
     ]
    },
    {
     "name": "stdout",
     "output_type": "stream",
     "text": [
      " -- Loss at epoch 67: 0.0094\n",
      " -- mIoU at epoch 67: 0.0571\n"
     ]
    },
    {
     "name": "stderr",
     "output_type": "stream",
     "text": [
      " 69%|████████████████████████████▉             | 69/100 [43:41<20:03, 38.84s/it]"
     ]
    },
    {
     "name": "stdout",
     "output_type": "stream",
     "text": [
      " -- Loss at epoch 68: 0.0098\n",
      " -- mIoU at epoch 68: 0.0571\n"
     ]
    },
    {
     "name": "stderr",
     "output_type": "stream",
     "text": [
      " 70%|█████████████████████████████▍            | 70/100 [44:19<19:21, 38.71s/it]"
     ]
    },
    {
     "name": "stdout",
     "output_type": "stream",
     "text": [
      " -- Loss at epoch 69: 0.0094\n",
      " -- mIoU at epoch 69: 0.0571\n"
     ]
    },
    {
     "name": "stderr",
     "output_type": "stream",
     "text": [
      " 71%|█████████████████████████████▊            | 71/100 [44:58<18:37, 38.55s/it]"
     ]
    },
    {
     "name": "stdout",
     "output_type": "stream",
     "text": [
      " -- Loss at epoch 70: 0.0098\n",
      " -- mIoU at epoch 70: 0.0571\n"
     ]
    },
    {
     "name": "stderr",
     "output_type": "stream",
     "text": [
      " 72%|██████████████████████████████▏           | 72/100 [45:36<17:59, 38.56s/it]"
     ]
    },
    {
     "name": "stdout",
     "output_type": "stream",
     "text": [
      " -- Loss at epoch 71: 0.0094\n",
      " -- mIoU at epoch 71: 0.0571\n"
     ]
    },
    {
     "name": "stderr",
     "output_type": "stream",
     "text": [
      " 73%|██████████████████████████████▋           | 73/100 [46:15<17:19, 38.52s/it]"
     ]
    },
    {
     "name": "stdout",
     "output_type": "stream",
     "text": [
      " -- Loss at epoch 72: 0.0094\n",
      " -- mIoU at epoch 72: 0.0571\n"
     ]
    },
    {
     "name": "stderr",
     "output_type": "stream",
     "text": [
      " 74%|███████████████████████████████           | 74/100 [46:53<16:40, 38.46s/it]"
     ]
    },
    {
     "name": "stdout",
     "output_type": "stream",
     "text": [
      " -- Loss at epoch 73: 0.0095\n",
      " -- mIoU at epoch 73: 0.0571\n"
     ]
    },
    {
     "name": "stderr",
     "output_type": "stream",
     "text": [
      " 75%|███████████████████████████████▌          | 75/100 [47:32<16:09, 38.76s/it]"
     ]
    },
    {
     "name": "stdout",
     "output_type": "stream",
     "text": [
      " -- Loss at epoch 74: 0.0096\n",
      " -- mIoU at epoch 74: 0.0571\n"
     ]
    },
    {
     "name": "stderr",
     "output_type": "stream",
     "text": [
      " 76%|███████████████████████████████▉          | 76/100 [48:13<15:45, 39.38s/it]"
     ]
    },
    {
     "name": "stdout",
     "output_type": "stream",
     "text": [
      " -- Loss at epoch 75: 0.0098\n",
      " -- mIoU at epoch 75: 0.0571\n"
     ]
    },
    {
     "name": "stderr",
     "output_type": "stream",
     "text": [
      " 77%|████████████████████████████████▎         | 77/100 [48:51<14:56, 38.96s/it]"
     ]
    },
    {
     "name": "stdout",
     "output_type": "stream",
     "text": [
      " -- Loss at epoch 76: 0.0095\n",
      " -- mIoU at epoch 76: 0.0571\n"
     ]
    },
    {
     "name": "stderr",
     "output_type": "stream",
     "text": [
      " 78%|████████████████████████████████▊         | 78/100 [49:29<14:07, 38.54s/it]"
     ]
    },
    {
     "name": "stdout",
     "output_type": "stream",
     "text": [
      " -- Loss at epoch 77: 0.0094\n",
      " -- mIoU at epoch 77: 0.0571\n"
     ]
    },
    {
     "name": "stderr",
     "output_type": "stream",
     "text": [
      " 79%|█████████████████████████████████▏        | 79/100 [50:06<13:23, 38.27s/it]"
     ]
    },
    {
     "name": "stdout",
     "output_type": "stream",
     "text": [
      " -- Loss at epoch 78: 0.0094\n",
      " -- mIoU at epoch 78: 0.0571\n"
     ]
    },
    {
     "name": "stderr",
     "output_type": "stream",
     "text": [
      " 80%|█████████████████████████████████▌        | 80/100 [50:45<12:45, 38.27s/it]"
     ]
    },
    {
     "name": "stdout",
     "output_type": "stream",
     "text": [
      " -- Loss at epoch 79: 0.0097\n",
      " -- mIoU at epoch 79: 0.0571\n"
     ]
    },
    {
     "name": "stderr",
     "output_type": "stream",
     "text": [
      " 81%|██████████████████████████████████        | 81/100 [51:25<12:18, 38.87s/it]"
     ]
    },
    {
     "name": "stdout",
     "output_type": "stream",
     "text": [
      " -- Loss at epoch 80: 0.0094\n",
      " -- mIoU at epoch 80: 0.0571\n"
     ]
    },
    {
     "name": "stderr",
     "output_type": "stream",
     "text": [
      " 82%|██████████████████████████████████▍       | 82/100 [52:03<11:34, 38.60s/it]"
     ]
    },
    {
     "name": "stdout",
     "output_type": "stream",
     "text": [
      " -- Loss at epoch 81: 0.0094\n",
      " -- mIoU at epoch 81: 0.0571\n"
     ]
    },
    {
     "name": "stderr",
     "output_type": "stream",
     "text": [
      " 83%|██████████████████████████████████▊       | 83/100 [52:41<10:54, 38.48s/it]"
     ]
    },
    {
     "name": "stdout",
     "output_type": "stream",
     "text": [
      " -- Loss at epoch 82: 0.0093\n",
      " -- mIoU at epoch 82: 0.0714\n"
     ]
    },
    {
     "name": "stderr",
     "output_type": "stream",
     "text": [
      " 84%|███████████████████████████████████▎      | 84/100 [53:18<10:07, 37.96s/it]"
     ]
    },
    {
     "name": "stdout",
     "output_type": "stream",
     "text": [
      " -- Loss at epoch 83: 0.0098\n",
      " -- mIoU at epoch 83: 0.0571\n"
     ]
    },
    {
     "name": "stderr",
     "output_type": "stream",
     "text": [
      " 85%|███████████████████████████████████▋      | 85/100 [53:56<09:28, 37.92s/it]"
     ]
    },
    {
     "name": "stdout",
     "output_type": "stream",
     "text": [
      " -- Loss at epoch 84: 0.0094\n",
      " -- mIoU at epoch 84: 0.0571\n"
     ]
    },
    {
     "name": "stderr",
     "output_type": "stream",
     "text": [
      " 86%|████████████████████████████████████      | 86/100 [54:34<08:54, 38.17s/it]"
     ]
    },
    {
     "name": "stdout",
     "output_type": "stream",
     "text": [
      " -- Loss at epoch 85: 0.0094\n",
      " -- mIoU at epoch 85: 0.0571\n"
     ]
    },
    {
     "name": "stderr",
     "output_type": "stream",
     "text": [
      " 87%|████████████████████████████████████▌     | 87/100 [55:12<08:13, 37.93s/it]"
     ]
    },
    {
     "name": "stdout",
     "output_type": "stream",
     "text": [
      " -- Loss at epoch 86: 0.0093\n",
      " -- mIoU at epoch 86: 0.0714\n"
     ]
    },
    {
     "name": "stderr",
     "output_type": "stream",
     "text": [
      " 88%|████████████████████████████████████▉     | 88/100 [55:52<07:42, 38.51s/it]"
     ]
    },
    {
     "name": "stdout",
     "output_type": "stream",
     "text": [
      " -- Loss at epoch 87: 0.0095\n",
      " -- mIoU at epoch 87: 0.0571\n"
     ]
    },
    {
     "name": "stderr",
     "output_type": "stream",
     "text": [
      " 89%|█████████████████████████████████████▍    | 89/100 [56:31<07:04, 38.62s/it]"
     ]
    },
    {
     "name": "stdout",
     "output_type": "stream",
     "text": [
      " -- Loss at epoch 88: 0.0094\n",
      " -- mIoU at epoch 88: 0.0571\n"
     ]
    },
    {
     "name": "stderr",
     "output_type": "stream",
     "text": [
      " 90%|█████████████████████████████████████▊    | 90/100 [57:10<06:27, 38.80s/it]"
     ]
    },
    {
     "name": "stdout",
     "output_type": "stream",
     "text": [
      " -- Loss at epoch 89: 0.0096\n",
      " -- mIoU at epoch 89: 0.0571\n"
     ]
    },
    {
     "name": "stderr",
     "output_type": "stream",
     "text": [
      " 91%|██████████████████████████████████████▏   | 91/100 [57:49<05:51, 39.02s/it]"
     ]
    },
    {
     "name": "stdout",
     "output_type": "stream",
     "text": [
      " -- Loss at epoch 90: 0.0095\n",
      " -- mIoU at epoch 90: 0.0571\n"
     ]
    },
    {
     "name": "stderr",
     "output_type": "stream",
     "text": [
      " 92%|██████████████████████████████████████▋   | 92/100 [58:27<05:08, 38.53s/it]"
     ]
    },
    {
     "name": "stdout",
     "output_type": "stream",
     "text": [
      " -- Loss at epoch 91: 0.0094\n",
      " -- mIoU at epoch 91: 0.0571\n"
     ]
    },
    {
     "name": "stderr",
     "output_type": "stream",
     "text": [
      " 93%|███████████████████████████████████████   | 93/100 [59:05<04:29, 38.51s/it]"
     ]
    },
    {
     "name": "stdout",
     "output_type": "stream",
     "text": [
      " -- Loss at epoch 92: 0.0095\n",
      " -- mIoU at epoch 92: 0.0571\n"
     ]
    },
    {
     "name": "stderr",
     "output_type": "stream",
     "text": [
      " 94%|███████████████████████████████████████▍  | 94/100 [59:44<03:51, 38.59s/it]"
     ]
    },
    {
     "name": "stdout",
     "output_type": "stream",
     "text": [
      " -- Loss at epoch 93: 0.0097\n",
      " -- mIoU at epoch 93: 0.0571\n"
     ]
    },
    {
     "name": "stderr",
     "output_type": "stream",
     "text": [
      " 95%|██████████████████████████████████████  | 95/100 [1:00:21<03:10, 38.15s/it]"
     ]
    },
    {
     "name": "stdout",
     "output_type": "stream",
     "text": [
      " -- Loss at epoch 94: 0.0094\n",
      " -- mIoU at epoch 94: 0.0571\n"
     ]
    },
    {
     "name": "stderr",
     "output_type": "stream",
     "text": [
      " 96%|██████████████████████████████████████▍ | 96/100 [1:00:59<02:32, 38.23s/it]"
     ]
    },
    {
     "name": "stdout",
     "output_type": "stream",
     "text": [
      " -- Loss at epoch 95: 0.0094\n",
      " -- mIoU at epoch 95: 0.0571\n"
     ]
    },
    {
     "name": "stderr",
     "output_type": "stream",
     "text": [
      " 97%|██████████████████████████████████████▊ | 97/100 [1:01:38<01:54, 38.23s/it]"
     ]
    },
    {
     "name": "stdout",
     "output_type": "stream",
     "text": [
      " -- Loss at epoch 96: 0.0094\n",
      " -- mIoU at epoch 96: 0.0571\n"
     ]
    },
    {
     "name": "stderr",
     "output_type": "stream",
     "text": [
      " 98%|███████████████████████████████████████▏| 98/100 [1:02:15<01:16, 38.08s/it]"
     ]
    },
    {
     "name": "stdout",
     "output_type": "stream",
     "text": [
      " -- Loss at epoch 97: 0.0094\n",
      " -- mIoU at epoch 97: 0.0571\n"
     ]
    },
    {
     "name": "stderr",
     "output_type": "stream",
     "text": [
      " 99%|███████████████████████████████████████▌| 99/100 [1:02:54<00:38, 38.23s/it]"
     ]
    },
    {
     "name": "stdout",
     "output_type": "stream",
     "text": [
      " -- Loss at epoch 98: 0.0094\n",
      " -- mIoU at epoch 98: 0.0571\n"
     ]
    },
    {
     "name": "stderr",
     "output_type": "stream",
     "text": [
      "100%|███████████████████████████████████████| 100/100 [1:03:35<00:00, 38.15s/it]"
     ]
    },
    {
     "name": "stdout",
     "output_type": "stream",
     "text": [
      " -- Loss at epoch 99: 0.0095\n",
      " -- mIoU at epoch 99: 0.0571\n",
      "--- 3815.120881319046 seconds ---\n"
     ]
    },
    {
     "name": "stderr",
     "output_type": "stream",
     "text": [
      "\n"
     ]
    }
   ],
   "source": [
    "# compute running time\n",
    "start_time = time.time()\n",
    "set_seed()  # for reproducibility\n",
    "lossi=np.zeros(n_epochs)\n",
    "iou=np.zeros(n_epochs)\n",
    "\n",
    "for idx in tqdm(range(n_epochs), ncols=80, leave=True):\n",
    "  cur_loss=0.0 \n",
    "  cur_iou = []\n",
    "  num_batches= 0\n",
    "  for i, batch in tqdm(enumerate(train_dl), ncols=80, leave=False):\n",
    "    xb = batch[0].to(device)\n",
    "    yb = batch[1].to(device)\n",
    "\n",
    "    with ctx:\n",
    "      # Perform a forward pass\n",
    "      logits = model(xb)[\"logits\"]\n",
    "\n",
    "      # Compute the loss\n",
    "      loss = loss_fn(upscale_logits(logits),\n",
    "                     torch.argmax(yb, dim=1).to(torch.long))\n",
    "\n",
    "      # normalize the loss with regards the number of graddient_accumulation_steps \n",
    "      loss = loss / gradient_accumulation_steps\n",
    "\n",
    "    # Backward prop\n",
    "    #loss.backward()\n",
    "    scaler.scale(loss).backward()\n",
    "\n",
    "    # Update the parameters every once we complete gradient_accumulation_steps or\n",
    "    # at the last batch in the dataloadaer\n",
    "    if ((i + 1) % gradient_accumulation_steps == 0) or ((i + 1) == len(train_dl)):\n",
    "      # clip the gradient\n",
    "      if grad_clip != 0.0:\n",
    "        scaler.unscale_(optimizer)\n",
    "        torch.nn.utils.clip_grad_norm_(model.parameters(), grad_clip)\n",
    "\n",
    "      # Scales loss. Calls backward() on scaled loss to create scaled gradients.\n",
    "      scaler.step(optimizer)\n",
    "      scaler.update()\n",
    "      # flush the gradients as soon as we can, no need for this memory anymore\n",
    "      optimizer.zero_grad(set_to_none=True)\n",
    "      scheduler.step()\n",
    "\n",
    "      # update the scale for the next iteration\n",
    "\n",
    "    # store the current loss value, IoU, and increment the number of batches\n",
    "    cur_loss += loss.item()\n",
    "    # require to pass the logits and yb from half to float32 using .float()\n",
    "    # See: https://pytorch.org/docs/stable/amp.html#autocasting\n",
    "    cur_iou.append(compute_intersection_over_union(logits.float(), yb.float()))\n",
    "    num_batches += 1\n",
    "\n",
    "  lossi[idx] = cur_loss / num_batches\n",
    "  iou[idx] = np.mean(cur_iou)\n",
    "  print(f\" -- Loss at epoch {idx}: {lossi[idx]:.4f}\")\n",
    "  print(f\" -- mIoU at epoch {idx}: {iou[idx]:.4f}\")\n",
    "\n",
    "# compute running time\n",
    "end_time = time.time()\n",
    "print(f\"--- {end_time - start_time} seconds ---\")"
   ]
  },
  {
   "cell_type": "code",
   "execution_count": 103,
   "metadata": {},
   "outputs": [
    {
     "data": {
      "image/png": "[encoded data removed]",
      "text/plain": [
       "<Figure size 432x288 with 1 Axes>"
      ]
     },
     "metadata": {
      "needs_background": "light"
     },
     "output_type": "display_data"
    }
   ],
   "source": [
    "plt.plot(lossi, color='darkcyan');\n",
    "plt.title('Loss');\n",
    "plt.xlabel('# epochs');"
   ]
  },
  {
   "cell_type": "code",
   "execution_count": 104,
   "metadata": {},
   "outputs": [
    {
     "data": {
      "image/png": "[encoded data removed]",
      "text/plain": [
       "<Figure size 432x288 with 1 Axes>"
      ]
     },
     "metadata": {
      "needs_background": "light"
     },
     "output_type": "display_data"
    }
   ],
   "source": [
    "plt.plot(iou, color='darkcyan');\n",
    "plt.title('mean Intersection over Union');\n",
    "plt.xlabel('# epochs');"
   ]
  },
  {
   "cell_type": "code",
   "execution_count": 117,
   "metadata": {},
   "outputs": [
    {
     "name": "stdout",
     "output_type": "stream",
     "text": [
      "torch.Size([2, 1, 512, 512])\n",
      "torch.Size([3, 528, 1048])\n"
     ]
    },
    {
     "data": {
      "image/png": "[encoded data removed]",
      "text/plain": [
       "<Figure size 432x288 with 1 Axes>"
      ]
     },
     "metadata": {
      "needs_background": "light"
     },
     "output_type": "display_data"
    }
   ],
   "source": [
    "xb, yb = next(iter(train_dl))\n",
    "xb = xb.to(device)\n",
    "yb = yb.to(device)\n",
    "\n",
    "model.eval()\n",
    "out = model(xb)[\"logits\"]\n",
    "out = torch.argmax(torch.softmax(upscale_logits(out), dim=1), dim=1, keepdim=True).cpu()\n",
    "print(out.shape)\n",
    "grid = torchvision.utils.make_grid(out, nrow=2, padding=8, pad_value=4)\n",
    "print(grid.shape)\n",
    "plt.imshow(np.uint8(grid.permute(1,2,0).numpy() * 255), cmap='viridis')\n",
    "plt.axis('off');\n",
    "plt.title('Predicted masks by class');"
   ]
  },
  {
   "cell_type": "code",
   "execution_count": 115,
   "metadata": {},
   "outputs": [
    {
     "data": {
      "image/png": "[encoded data removed]",
      "text/plain": [
       "<Figure size 432x288 with 1 Axes>"
      ]
     },
     "metadata": {
      "needs_background": "light"
     },
     "output_type": "display_data"
    }
   ],
   "source": [
    "grid=torchvision.utils.make_grid(\n",
    "    #yb.unsqueeze(1).detach(),\n",
    "    yb.max(dim=1)[0].unsqueeze(1).detach().cpu(),\n",
    "    nrow=2,\n",
    "    padding=8,\n",
    "    pad_value=8\n",
    "    )\n",
    "\n",
    "plt.imshow(np.uint8(grid.permute(1,2,0).cpu().numpy()) * 255)\n",
    "plt.axis(\"off\");\n",
    "plt.title(\"Original masks\");"
   ]
  }
 ],
 "metadata": {
  "kernelspec": {
   "display_name": "eda",
   "language": "python",
   "name": "python3"
  },
  "language_info": {
   "codemirror_mode": {
    "name": "ipython",
    "version": 3
   },
   "file_extension": ".py",
   "mimetype": "text/x-python",
   "name": "python",
   "nbconvert_exporter": "python",
   "pygments_lexer": "ipython3",
   "version": "3.8.5"
  },
  "orig_nbformat": 4
 },
 "nbformat": 4,
 "nbformat_minor": 2
}
